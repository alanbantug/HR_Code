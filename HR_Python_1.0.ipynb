{
 "cells": [
  {
   "cell_type": "code",
   "execution_count": 1,
   "metadata": {
    "collapsed": true
   },
   "outputs": [],
   "source": [
    "a = [2, 4]\n",
    "b = [16, 32, 96]"
   ]
  },
  {
   "cell_type": "code",
   "execution_count": 2,
   "metadata": {},
   "outputs": [
    {
     "data": {
      "text/plain": [
       "96"
      ]
     },
     "execution_count": 2,
     "metadata": {},
     "output_type": "execute_result"
    }
   ],
   "source": [
    "b[-1]"
   ]
  },
  {
   "cell_type": "code",
   "execution_count": 3,
   "metadata": {},
   "outputs": [
    {
     "name": "stdout",
     "output_type": "stream",
     "text": [
      "3\n"
     ]
    }
   ],
   "source": [
    "factor = set()\n",
    "\n",
    "# loop thru the array to get all numbers up to 100\n",
    "for i in range(1,101):\n",
    "    \n",
    "    good = True\n",
    "\n",
    "    # check if the numbers is the list a are all factors of the number\n",
    "    for a1 in a:\n",
    "        if i % a1 == 0:\n",
    "            pass\n",
    "        else:\n",
    "            good = False\n",
    "            break\n",
    "    \n",
    "    # check if the number is a factor of numbers in list b\n",
    "    if good:\n",
    "        for b1 in b:\n",
    "            if b1 % i == 0:\n",
    "                pass\n",
    "            else:\n",
    "                good = False\n",
    "                break\n",
    "                \n",
    "    if good:\n",
    "        factor.add(i)\n",
    "                \n",
    "print(len(factor))"
   ]
  },
  {
   "cell_type": "code",
   "execution_count": 4,
   "metadata": {
    "collapsed": true
   },
   "outputs": [],
   "source": [
    "# From the factor list\n",
    "\n",
    "#factor = set()\n",
    "\n",
    "#for m in multiples:\n",
    "#    for b1 in b:\n",
    "#        if b1 % m == 0:\n",
    "#            factor.add(m)\n",
    "#            \n",
    "#print(len(factor))"
   ]
  },
  {
   "cell_type": "code",
   "execution_count": 5,
   "metadata": {
    "collapsed": true
   },
   "outputs": [],
   "source": [
    "score = [3, 4, 21, 36, 10, 28, 35, 5, 24, 42]\n",
    "\n",
    "def breakingRecords(score):\n",
    "    #\n",
    "    # Write your code here.\n",
    "    #\n",
    "\n",
    "    # Initialize the min and max scores to the first score in the list\n",
    "    min_score = score[0]\n",
    "    max_score = score[0]\n",
    "\n",
    "    # Initialize the counters\n",
    "    min_change = 0\n",
    "    max_change = 0\n",
    "    \n",
    "    # loop thru the list of scores and set the min and max scores\n",
    "    for s in score[1:]:\n",
    "        if min_score > min(min_score, s):\n",
    "            min_change += 1\n",
    "            \n",
    "        min_score = min(min_score, s)\n",
    "\n",
    "        if max_score < max(max_score, s):\n",
    "            max_change += 1\n",
    "            \n",
    "        max_score = max(max_score, s)\n",
    "\n",
    "        \n",
    "    print('{} {}'.format(max_change, min_change))\n"
   ]
  },
  {
   "cell_type": "code",
   "execution_count": 6,
   "metadata": {},
   "outputs": [
    {
     "name": "stdout",
     "output_type": "stream",
     "text": [
      "4 0\n"
     ]
    }
   ],
   "source": [
    "breakingRecords(score)"
   ]
  },
  {
   "cell_type": "markdown",
   "metadata": {
    "collapsed": true
   },
   "source": [
    "## Birthday Chocolate"
   ]
  },
  {
   "cell_type": "code",
   "execution_count": 7,
   "metadata": {
    "collapsed": true
   },
   "outputs": [],
   "source": [
    "def solve(n, s, d, m):\n",
    "    # Complete this function\n",
    "\n",
    "    fnd_count = 0\n",
    "    \n",
    "    # loop thru the list up to n - m + 1. this is because m is the actual number to look for, \n",
    "    # so for indexing purposes, we subtract 1\n",
    "    \n",
    "    for i in range(n - m + 1):\n",
    "\n",
    "        # check m consecutive chocolate square and sum the integers\n",
    "        d_tot = 0\n",
    "        \n",
    "        for j in range(i,i + m):\n",
    "            \n",
    "            d_tot += s[j] \n",
    "        print(d_tot)\n",
    "        if d_tot == d:\n",
    "            fnd_count += 1\n",
    "    \n",
    "    print(fnd_count)"
   ]
  },
  {
   "cell_type": "code",
   "execution_count": 8,
   "metadata": {},
   "outputs": [
    {
     "name": "stdout",
     "output_type": "stream",
     "text": [
      "4\n",
      "1\n"
     ]
    }
   ],
   "source": [
    "s = [4, 1]\n",
    "\n",
    "solve(1, s, 4, 1)"
   ]
  },
  {
   "cell_type": "code",
   "execution_count": 9,
   "metadata": {},
   "outputs": [
    {
     "name": "stdout",
     "output_type": "stream",
     "text": [
      "3\n",
      "3\n",
      "3\n",
      "3\n",
      "0\n"
     ]
    }
   ],
   "source": [
    "s = [1, 1, 1, 1, 1, 1]\n",
    "\n",
    "solve(6, s, 2, 3)"
   ]
  },
  {
   "cell_type": "code",
   "execution_count": 10,
   "metadata": {},
   "outputs": [
    {
     "name": "stdout",
     "output_type": "stream",
     "text": [
      "3\n",
      "3\n",
      "4\n",
      "5\n",
      "2\n"
     ]
    }
   ],
   "source": [
    "s = [1, 2, 1, 3, 2]\n",
    "\n",
    "solve(5, s, 3, 2)"
   ]
  },
  {
   "cell_type": "markdown",
   "metadata": {},
   "source": [
    "## Divisible Sum Pairs"
   ]
  },
  {
   "cell_type": "code",
   "execution_count": 11,
   "metadata": {
    "collapsed": true
   },
   "outputs": [],
   "source": [
    "def divisibleSumPairs(n, k, ar):\n",
    "    # Complete this function\n",
    "    \n",
    "    div_count = 0\n",
    "    \n",
    "    # loop thru the list up to the second last element since we are paring them\n",
    "    for i in range(n - 1):\n",
    "\n",
    "        # get the item and sum it up with the next numbers in the list, one at a time\n",
    "        for j in range(i + 1, n):\n",
    "\n",
    "            p_sum = ar[i] + ar[j]\n",
    "            \n",
    "            if p_sum % k == 0:\n",
    "                div_count += 1\n",
    "                \n",
    "    print(div_count)\n",
    "                \n",
    "            "
   ]
  },
  {
   "cell_type": "code",
   "execution_count": 12,
   "metadata": {},
   "outputs": [
    {
     "name": "stdout",
     "output_type": "stream",
     "text": [
      "5\n"
     ]
    }
   ],
   "source": [
    "ar = [1, 3, 2, 6, 1, 2]\n",
    "\n",
    "divisibleSumPairs(6, 3, ar)"
   ]
  },
  {
   "cell_type": "markdown",
   "metadata": {},
   "source": [
    "## Migratory Birds"
   ]
  },
  {
   "cell_type": "code",
   "execution_count": 13,
   "metadata": {},
   "outputs": [
    {
     "name": "stdout",
     "output_type": "stream",
     "text": [
      "{1, 3, 4, 5}\n"
     ]
    }
   ],
   "source": [
    "ar = [1, 4, 4, 4, 5, 3]\n",
    "\n",
    "ar_set = set(ar)\n",
    "\n",
    "print(ar_set)"
   ]
  },
  {
   "cell_type": "code",
   "execution_count": 14,
   "metadata": {},
   "outputs": [
    {
     "name": "stdout",
     "output_type": "stream",
     "text": [
      "1\n",
      "3\n",
      "4\n",
      "5\n"
     ]
    }
   ],
   "source": [
    "for i in ar_set:\n",
    "    print(i)"
   ]
  },
  {
   "cell_type": "code",
   "execution_count": 15,
   "metadata": {
    "collapsed": true
   },
   "outputs": [],
   "source": [
    "## Solution\n",
    "\n",
    "def migratoryBirds(n, ar):\n",
    "    # Complete this function\n",
    "    \n",
    "    # cast the list to a set so you can get the unique values\n",
    "    ar_set = set(ar)\n",
    "    \n",
    "    # set the high values\n",
    "    hi_type = 0\n",
    "    hi_count = 0\n",
    "    \n",
    "    for i in ar_set:\n",
    "        \n",
    "        # get count of the type\n",
    "        type_count = ar.count(i)\n",
    "        \n",
    "        # if type count is greater than hi_count, set it as high count and the type as hi_type\n",
    "        if hi_count < type_count:\n",
    "            hi_count = type_count\n",
    "            hi_type = i\n",
    "            \n",
    "    print(hi_type)\n",
    "        "
   ]
  },
  {
   "cell_type": "code",
   "execution_count": 16,
   "metadata": {},
   "outputs": [
    {
     "name": "stdout",
     "output_type": "stream",
     "text": [
      "4\n"
     ]
    }
   ],
   "source": [
    "ar = [1, 4, 4, 4, 5, 3]\n",
    "\n",
    "migratoryBirds(6, ar)"
   ]
  },
  {
   "cell_type": "markdown",
   "metadata": {},
   "source": [
    "## Day of the Programmer\n",
    "\n",
    "Marie invented a Time Machine and wants to test it by time-traveling to visit Russia on the Day of the Programmer (the 256th day of the year) during a year in the inclusive range from 1700 to 2700.\n",
    "\n",
    "From  1700 to 1917, Russia's official calendar was the Julian calendar; since 1919 they used the Gregorian calendar system. The transition from the Julian to Gregorian calendar system occurred in 1918, when the next day after January 31 was February 14. This means that in 1918, February  was the 32nd day of the year in Russia.\n",
    "\n",
    "In both calendar systems, February is the only month with a variable amount of days; it has 29 days during a leap year, and 28 days during all other years. In the Julian calendar, leap years are divisible by 4 ; in the Gregorian calendar, leap years are either of the following:\n",
    "\n",
    "Divisible by 400.\n",
    "Divisible by 4 and not divisible by 100.\n",
    "\n",
    "Given a year, _y_, find the date of the 256th day of that year according to the official Russian calendar during that year. Then print it in the format _dd.mm.yyyy_, where _dd_ is the two-digit day, _mm_ is the two-digit month, and _yyyy_ is _y_.\n"
   ]
  },
  {
   "cell_type": "code",
   "execution_count": 17,
   "metadata": {
    "collapsed": true
   },
   "outputs": [],
   "source": [
    "def solve(year):\n",
    "    # Complete this function\n",
    "    \n",
    "    # create list containing the number of days of the months. There will be 3 lists, including regular years and \n",
    "    # leap years from 1700-1917 and for 1918, since there's only 15 days for that year\n",
    "    \n",
    "    list_a = [31, 28, 31, 30, 31, 30, 31, 31, 30, 31, 30, 31]\n",
    "    list_b = [31, 29, 31, 30, 31, 30, 31, 31, 30, 31, 30, 31]\n",
    "    list_c = [31, 15, 31, 30, 31, 30, 31, 31, 30, 31, 30, 31]\n",
    "    \n",
    "    # check the year to determine which list to use\n",
    "    \n",
    "    if year == 1918:\n",
    "        use_list = list_c\n",
    "    else:\n",
    "    \n",
    "        # if it is any other year, check the period to determine what formula to use to determine\n",
    "        # if it is a leap year\n",
    "        \n",
    "        if year >= 1700 and year <= 1917:\n",
    "            \n",
    "            # calculate if year is leap year as per Julian leap year rules\n",
    "            \n",
    "            if year % 4 == 0:\n",
    "                use_list = list_b\n",
    "            else:\n",
    "                use_list = list_a\n",
    "                \n",
    "        else:\n",
    "            \n",
    "            # calculate if year is leap year as per Gregorian leap year rules\n",
    "            \n",
    "            if year % 4 == 0 and year % 100 != 0:\n",
    "                use_list = list_b\n",
    "            elif year % 400 == 0:\n",
    "                use_list = list_b\n",
    "            else:\n",
    "                use_list = list_a\n",
    "    \n",
    "    mm = 0\n",
    "    dd = 0\n",
    "    dd_tot = 0\n",
    "    \n",
    "    for days in use_list:\n",
    "        \n",
    "        if dd_tot + days < 256:\n",
    "            dd_tot += days\n",
    "            mm += 1\n",
    "        else:\n",
    "            print(dd_tot)\n",
    "            dd = 256 - dd_tot\n",
    "            mm += 1\n",
    "            break\n",
    "        \n",
    "    print('{:02}.{:02}.{}'.format(dd, mm, year))\n",
    "    \n",
    "\n",
    "    "
   ]
  },
  {
   "cell_type": "code",
   "execution_count": 18,
   "metadata": {},
   "outputs": [
    {
     "name": "stdout",
     "output_type": "stream",
     "text": [
      "243\n",
      "13.09.2018\n"
     ]
    }
   ],
   "source": [
    "solve(2018)"
   ]
  },
  {
   "cell_type": "markdown",
   "metadata": {
    "collapsed": true
   },
   "source": [
    "## Bon Appetit\n",
    "\n",
    "Anna and Brian order _n_ items at a restaurant, but Anna declines to eat any of the _kth_ item (where ) due to an allergy. When the check comes, they decide to split the cost of all the items they shared; however, Brian may have forgotten that they didn't split the _kth_ item and accidentally charged Anna for it.\n",
    "\n",
    "You are given _n_, _k_, the cost of each of the _n_ items, and the total amount of money that Brian charged Anna for her portion of the bill. If the bill is fairly split, print Bon Appetit; otherwise, print the amount of money that Brian must refund to Anna. It is guaranteed that the amount will always be an integer."
   ]
  },
  {
   "cell_type": "code",
   "execution_count": 19,
   "metadata": {},
   "outputs": [
    {
     "data": {
      "text/plain": [
       "\"\\n\\nNote: The code below will not run correctly since it makes use of STDIN and STDOUT, which is not configured.\\n      I just added them here to serve as a reference in future problem solving\\n\\n# read the first line\\nn, k = map(int, input().split())\\n\\n# read the second line\\npr = list(map(int, input().split()))\\n\\n# read the third line\\nt = int(input())\\n\\nresult = chargeCheck(n, k, t, pr)\\n\\nsys.stdout.write(result + '\\n')\\n\\n\""
      ]
     },
     "execution_count": 19,
     "metadata": {},
     "output_type": "execute_result"
    }
   ],
   "source": [
    "import os\n",
    "import sys\n",
    "\n",
    "def chargeCheck(n, k, t, pr):\n",
    "    \n",
    "    total = 0\n",
    "    \n",
    "    for i in range(n):\n",
    "        if i != k:\n",
    "            total += pr[i]\n",
    "    \n",
    "    diff = t - total / 2\n",
    "        \n",
    "    return 'Bon Appetit' if diff == 0 else str(int(diff))\n",
    "\n",
    "'''\n",
    "\n",
    "Note: The code below will not run correctly since it makes use of STDIN and STDOUT, which is not configured.\n",
    "      I just added them here to serve as a reference in future problem solving\n",
    "\n",
    "# read the first line\n",
    "n, k = map(int, input().split())\n",
    "\n",
    "# read the second line\n",
    "pr = list(map(int, input().split()))\n",
    "\n",
    "# read the third line\n",
    "t = int(input())\n",
    "\n",
    "result = chargeCheck(n, k, t, pr)\n",
    "\n",
    "sys.stdout.write(result + '\\n')\n",
    "\n",
    "'''"
   ]
  },
  {
   "cell_type": "markdown",
   "metadata": {},
   "source": [
    "## Sock Merchant\n",
    "\n",
    "John works at a clothing store. He has a large pile of socks that he must pair them by color for sale.\n",
    "\n",
    "You will be given an array of integers representing the color of each sock. Determine how many pairs of socks with matching colors there are.\n",
    "\n",
    "John works at a clothing store and he's going through a pile of socks to find the number of matching pairs. More specifically, he has a pile of _n_ loose socks where each sock _i_ is labeled with an integer, _ci_, denoting its color. He wants to sell as many socks as possible, but his customers will only buy them in matching pairs. Two socks, _i_ and _j_, are a single matching pair if they have the same color (_ci = cj_).\n",
    "\n",
    "Given  and the color of each sock, how many pairs of socks can John sell?"
   ]
  },
  {
   "cell_type": "code",
   "execution_count": 20,
   "metadata": {
    "collapsed": true
   },
   "outputs": [],
   "source": [
    "import sys\n",
    "\n",
    "def sockMerchant(n, ar):\n",
    "    # Complete this function\n",
    "    \n",
    "    # cast the list into a set to get the unique values\n",
    "    ar_set = set(ar)\n",
    "\n",
    "    pairs = 0\n",
    "    \n",
    "    # for each item in the set, check its count in the list\n",
    "    for s in ar_set:\n",
    "        pairs += int(ar.count(s) / 2)\n",
    "    \n",
    "    return pairs\n",
    "        "
   ]
  },
  {
   "cell_type": "code",
   "execution_count": 21,
   "metadata": {},
   "outputs": [
    {
     "data": {
      "text/plain": [
       "3"
      ]
     },
     "execution_count": 21,
     "metadata": {},
     "output_type": "execute_result"
    }
   ],
   "source": [
    "ar = [10, 20, 20, 10, 10, 30, 50, 10, 20]\n",
    "\n",
    "sockMerchant(9, ar)"
   ]
  },
  {
   "cell_type": "markdown",
   "metadata": {},
   "source": [
    "## Drawing Book\n",
    "\n",
    "Brie’s Drawing teacher asks her class to open their _n_-page book to page number _p_. Brie can either start turning pages from the front of the book (i.e., page number ) or from the back of the book (i.e., page number 1), and she always turns pages one-by-one (as opposed to skipping through multiple pages at once). When she opens the book, page 1 is always on the right side:\n",
    "\n",
    "Each page in the book has two sides, front and back, except for the last page which may only have a front side depending on the total number of pages of the book (see the Explanation sections below for additional diagrams).\n",
    "\n",
    "Given _n_ and _p_, find and print the minimum number of pages Brie must turn in order to arrive at page _p_."
   ]
  },
  {
   "cell_type": "code",
   "execution_count": 22,
   "metadata": {
    "collapsed": true
   },
   "outputs": [],
   "source": [
    "def solve(n, p):\n",
    "    # Complete this function\n",
    "    \n",
    "    # since each sheet of paper on the book consists of two pages, except for the last page\n",
    "    # the number of pages turned will be by a factor of two going forward and backward\n",
    "    \n",
    "    f_count = 0\n",
    "    \n",
    "    for i in range(1, n, 2):\n",
    "        if i < p:\n",
    "            f_count += 1\n",
    "    \n",
    "    # counting from the back is a little different because the last page may be odd or even\n",
    "    # if it is even, the last page would be the left, but if odd it is on the right\n",
    "    # this means that for the latter, the \n",
    "    \n",
    "    b_count = 0\n",
    "\n",
    "    for i in range(n - 1, 1, -2):\n",
    "        if i > p:\n",
    "            b_count += 1\n",
    "    \n",
    "    return min(f_count, b_count)\n",
    "    \n",
    "    "
   ]
  },
  {
   "cell_type": "code",
   "execution_count": 23,
   "metadata": {},
   "outputs": [
    {
     "name": "stdout",
     "output_type": "stream",
     "text": [
      "1\n"
     ]
    }
   ],
   "source": [
    "print(solve(6,2))"
   ]
  },
  {
   "cell_type": "code",
   "execution_count": 24,
   "metadata": {},
   "outputs": [
    {
     "name": "stdout",
     "output_type": "stream",
     "text": [
      "0\n"
     ]
    }
   ],
   "source": [
    "print(solve(5,4))"
   ]
  },
  {
   "cell_type": "code",
   "execution_count": 25,
   "metadata": {
    "collapsed": true
   },
   "outputs": [],
   "source": [
    "## Here's an alternate solution, which is better since the solution above failed in the last test case\n",
    "\n",
    "def solveB(n, p):\n",
    "    \n",
    "    # create a list with all pages in it. since page 1 is always on the right side, it can be paired with page zero\n",
    "    page_list = []\n",
    "    \n",
    "    # get the numbers by pairs and put them in a list of tuples\n",
    "    for i in range(0, n+1, 2):\n",
    "        page_list.append((i, i+1))\n",
    "    \n",
    "    print(page_list)\n",
    "    \n",
    "    f_count = 0\n",
    "    for p_left, p_right in page_list:\n",
    "        if p_left == p or p_right == p:\n",
    "            break\n",
    "        else:\n",
    "            f_count += 1\n",
    "    \n",
    "    # reverse the list and perform the same \n",
    "    page_list.reverse()\n",
    "    print(page_list)\n",
    "    \n",
    "    b_count = 0\n",
    "    for p_left, p_right in page_list:\n",
    "        \n",
    "        if p_left == p or p_right == p:\n",
    "            break\n",
    "        else:\n",
    "            b_count += 1\n",
    "    \n",
    "    print(f_count)\n",
    "    print(b_count)\n",
    "        "
   ]
  },
  {
   "cell_type": "code",
   "execution_count": 26,
   "metadata": {},
   "outputs": [
    {
     "name": "stdout",
     "output_type": "stream",
     "text": [
      "[(0, 1), (2, 3), (4, 5)]\n",
      "[(4, 5), (2, 3), (0, 1)]\n",
      "2\n",
      "0\n",
      "None\n"
     ]
    }
   ],
   "source": [
    "print(solveB(5,4))"
   ]
  },
  {
   "cell_type": "code",
   "execution_count": 27,
   "metadata": {
    "collapsed": true
   },
   "outputs": [],
   "source": [
    "t = (1, 2)"
   ]
  },
  {
   "cell_type": "markdown",
   "metadata": {},
   "source": [
    "## Counting Valleys\n",
    "\n",
    "Gary is an avid hiker. He tracks his hikes meticulously, paying close attention to small details like topography. During his last hike, he took exactly _n_ steps. For every step he took, he noted if it was an uphill or a downhill step. Gary's hikes start and end at sea level. We define the following terms:\n",
    "\n",
    "- A mountain is a non-empty sequence of consecutive steps above sea level, starting with a step up from sea level and ending with a step down to sea level.\n",
    "- A valley is a non-empty sequence of consecutive steps below sea level, starting with a step down from sea level and ending with a step up to sea level.\n",
    "\n",
    "Given Gary's sequence of up and down steps during his last hike, find and print the number of valleys he walked through."
   ]
  },
  {
   "cell_type": "code",
   "execution_count": 28,
   "metadata": {
    "collapsed": true
   },
   "outputs": [],
   "source": [
    "def countingValleys(n, s):\n",
    "    # Complete this function\n",
    "    \n",
    "    # This is a sequence problem where we have to count consecutive Us or Ds\n",
    "    # What we can do is do a count up for each U and a count down for each D. Sea level will be at zero\n",
    "    # We can also count how many time we count up\n",
    "    \n",
    "    c_level = 0   # curr level\n",
    "    p_level = 0   # prev level\n",
    "    m_count = 0\n",
    "    v_count = 0\n",
    "    \n",
    "    for step in s:\n",
    "        \n",
    "        if step == 'U':\n",
    "            c_level += 1\n",
    "        else:\n",
    "            c_level -= 1\n",
    "        \n",
    "        # check if sea level was reached\n",
    "        if c_level == 0:\n",
    "            \n",
    "            if p_level > 0:\n",
    "                # this means we just got down a mountain\n",
    "                m_count += 1\n",
    "            else:\n",
    "                # this means we just got up from a valley\n",
    "                v_count += 1\n",
    "        \n",
    "        p_level = c_level\n",
    "    \n",
    "    print(v_count)\n",
    "    print(m_count)"
   ]
  },
  {
   "cell_type": "code",
   "execution_count": 29,
   "metadata": {},
   "outputs": [
    {
     "name": "stdout",
     "output_type": "stream",
     "text": [
      "1\n",
      "1\n"
     ]
    }
   ],
   "source": [
    "s = 'UDDDUDUU'\n",
    "countingValleys(8,s)"
   ]
  },
  {
   "cell_type": "markdown",
   "metadata": {},
   "source": [
    "## Electronics Shop\n",
    "\n",
    "Monica wants to buy exactly one keyboard and one USB drive from her favorite electronics store. The store sells _n_ different brands of keyboards and _m_ different brands of USB drives. Monica has exactly _s_ dollars to spend, and she wants to spend as much of it as possible (i.e., the total cost of her purchase must be maximal).\n",
    "\n",
    "Given the price lists for the store's keyboards and USB drives, find and print the amount of money Monica will spend. If she doesn't have enough money to buy one keyboard and one USB drive, print -1 instead.\n",
    "\n",
    "Note: She will never buy more than one keyboard and one USB drive even if she has the leftover money to do so."
   ]
  },
  {
   "cell_type": "code",
   "execution_count": 30,
   "metadata": {
    "collapsed": true
   },
   "outputs": [],
   "source": [
    "def getMoneySpent(keyboards, drives, s):\n",
    "    \n",
    "    # Complete this function\n",
    "    \n",
    "    # Basically since Monica wants to buy one of each item, all we need to do here is get the\n",
    "    # sum of the prices of items taken one each\n",
    "    \n",
    "    price_totals = []\n",
    "    \n",
    "    for k in keyboards:\n",
    "        \n",
    "        for d in drives:\n",
    "            \n",
    "            price_totals.append(k + d)\n",
    "            \n",
    "    # get the minimum value from the list. if it is more that Monica's money, return -1\n",
    "    \n",
    "    if min(price_totals) > s:\n",
    "        return -1\n",
    "    \n",
    "    # check each combination to see how much Monica will spend. It must be less than or equal her budget\n",
    "    \n",
    "    return max([price for price in price_totals if price <= s])\n",
    "    \n",
    "           \n",
    "            \n",
    "    "
   ]
  },
  {
   "cell_type": "code",
   "execution_count": 31,
   "metadata": {
    "collapsed": true
   },
   "outputs": [],
   "source": [
    "p1 = [1,2,3,3,4,5,6]\n",
    "p2 = [p for p in p1 if p <= 3]"
   ]
  },
  {
   "cell_type": "code",
   "execution_count": 32,
   "metadata": {},
   "outputs": [
    {
     "data": {
      "text/plain": [
       "3"
      ]
     },
     "execution_count": 32,
     "metadata": {},
     "output_type": "execute_result"
    }
   ],
   "source": [
    "max(p2)"
   ]
  },
  {
   "cell_type": "code",
   "execution_count": 33,
   "metadata": {},
   "outputs": [
    {
     "name": "stdout",
     "output_type": "stream",
     "text": [
      "9\n"
     ]
    }
   ],
   "source": [
    "keyboards = [3, 1]\n",
    "drives = [5, 2, 8]\n",
    "s = 10\n",
    "\n",
    "print(str(getMoneySpent(keyboards, drives, s)))"
   ]
  },
  {
   "cell_type": "markdown",
   "metadata": {
    "collapsed": true
   },
   "source": [
    "## Cats and a Mouse\n",
    "\n",
    "Two cats and a mouse are at various positions on a line. You will be given their starting positions. Your task is to determine which cat will reach the mouse first, assuming the mouse doesn't move and the cats travel at equal speed. If the cats arrive at the same time, the mouse will be allowed to move and it will escape while they fight.\n",
    "\n",
    "You are given _q_ queries in the form of _x_, _y_ and _z_ representing the respective positions for cats _A_ and _B_, and for mouse _C_. Complete the function _catAndMouse_ to return the appropriate answer to each query, which will be printed on a new line.\n",
    "\n",
    "If cat _A_ catches the mouse first, print Cat A.\n",
    "If cat _B_ catches the mouse first, print Cat B.\n",
    "If both cats reach the mouse at the same time, print Mouse C as the two cats fight and mouse escapes."
   ]
  },
  {
   "cell_type": "code",
   "execution_count": 34,
   "metadata": {
    "collapsed": true
   },
   "outputs": [],
   "source": [
    "def catAndMouse(x, y, z):\n",
    "    #\n",
    "    # Write your code here.\n",
    "    #\n",
    "    \n",
    "    # This will be a distance problem essentially.\n",
    "    \n",
    "    if abs(z - x) < abs(y - z):\n",
    "        # x is closer to c\n",
    "        return 'Cat A'\n",
    "    elif abs(z - x) > abs(y - z):\n",
    "        # y is closer to c\n",
    "        return 'Cat B'\n",
    "    else:\n",
    "        return 'Mouse C'   "
   ]
  },
  {
   "cell_type": "code",
   "execution_count": 35,
   "metadata": {},
   "outputs": [
    {
     "name": "stdout",
     "output_type": "stream",
     "text": [
      "Cat B\n"
     ]
    }
   ],
   "source": [
    "print(catAndMouse(1,2,3))"
   ]
  },
  {
   "cell_type": "code",
   "execution_count": 36,
   "metadata": {},
   "outputs": [
    {
     "name": "stdout",
     "output_type": "stream",
     "text": [
      "Mouse C\n"
     ]
    }
   ],
   "source": [
    "print(catAndMouse(1,3,2))"
   ]
  },
  {
   "cell_type": "markdown",
   "metadata": {},
   "source": [
    "## Forming a Magic Square ... to be continued\n",
    "\n",
    "We define a magic square to be an _n x n_ matrix of distinct positive integers from _1_ to _n^2_ where the sum of any row, column, or diagonal (of length _n_) is always equal to the same number (i.e., the magic constant).\n",
    "\n",
    "Consider a _3x3_ matrix, _s_, of integers in the inclusive range _[1,9]_. We can convert any digit, _a_, to any other digit, _b_ , in the range _[1,9]_ at cost _|a-b|_.\n",
    "\n",
    "Given _s_, convert it into a magic square at minimal cost by changing zero or more of its digits. Then print this cost on a new line.\n",
    "\n",
    "Note: The resulting magic square must contain distinct integers in the inclusive range _[1,9]_.\n",
    "\n",
    "Input Format\n",
    "\n",
    "There are  lines of input. Each line describes a row of the matrix in the form of  space-separated integers denoting the respective first, second, and third elements of that row.\n",
    "\n",
    "Constraints\n",
    "\n",
    "All integers in  are in the inclusive range ."
   ]
  },
  {
   "cell_type": "code",
   "execution_count": 37,
   "metadata": {
    "collapsed": true
   },
   "outputs": [],
   "source": [
    "def formingMagicSquare(s):\n",
    "    # Complete this function\n",
    "    \n",
    "    # Create code that will sum up the rows, columns and diagonals. There will be a total for a 3x3 matrix, \n",
    "    # there will be 8 values (3 rows, 3 colums, 2 diagonals)\n",
    "    \n",
    "    def get_sum(s, r, c, r_i, c_i):\n",
    "        \n",
    "        row = r\n",
    "        col = c\n",
    "        \n",
    "        temp_sum = 0\n",
    "        \n",
    "        for i in range(len(s)):\n",
    "            temp_sum += s[row][col] \n",
    "            \n",
    "            row += r_i\n",
    "            col += c_i\n",
    "        \n",
    "        return temp_sum\n",
    "    # initialize sums list\n",
    "    \n",
    "    sums = []\n",
    "    \n",
    "    # count the sum of rows\n",
    "    for i in range(len(s)):\n",
    "        \n",
    "        sums.append(get_sum(s, i, 0, 0, 1))\n",
    "        \n",
    "    # count the sum of colums\n",
    "    for i in range(len(s)):\n",
    "        \n",
    "        sums.append(get_sum(s, 0, i, 1, 0))\n",
    "    \n",
    "    # count the diagonals\n",
    "    sums.append(get_sum(s, 0, 0, 1, 1))\n",
    "    sums.append(get_sum(s, len(s), len(s), 1, -1))\n",
    "    \n",
    "        \n",
    "            \n",
    "            \n",
    "    sums = []\n",
    "    \n",
    "    # sum the rows\n",
    "    for row in range(len(s)):\n",
    "        sums.append(s[i])\n",
    "        \n",
    "    \n",
    "    # sum the columns\n",
    "    for row in range(len(s)):\n",
    "        temp_sum = 0\n",
    "        for col in range(len(s)):\n",
    "            temp_sum += s[row][col]\n",
    "            \n",
    "        sums.append(temp_sum)\n"
   ]
  },
  {
   "cell_type": "code",
   "execution_count": 38,
   "metadata": {},
   "outputs": [
    {
     "name": "stdout",
     "output_type": "stream",
     "text": [
      "[[4, 9, 2], [3, 5, 7], [8, 1, 6]]\n"
     ]
    }
   ],
   "source": [
    "l1 = [4, 9, 2]\n",
    "l2 = [3, 5, 7]\n",
    "l3 = [8, 1, 6]\n",
    "\n",
    "s = []\n",
    "s.append(l1)\n",
    "s.append(l2)\n",
    "s.append(l3)\n",
    "\n",
    "print(s)"
   ]
  },
  {
   "cell_type": "code",
   "execution_count": 39,
   "metadata": {
    "collapsed": true
   },
   "outputs": [],
   "source": [
    "def get_sum(s, r, c, r_i, c_i):\n",
    "        \n",
    "    row = r\n",
    "    col = c\n",
    "        \n",
    "    temp_sum = 0\n",
    "        \n",
    "    for i in range(len(s)):\n",
    "        temp_sum += s[row][col] \n",
    "            \n",
    "        row += r_i\n",
    "        col += c_i\n",
    "        \n",
    "    return temp_sum\n",
    "    # initialize sums list\n",
    "    \n",
    "def checkIfMagic(s):\n",
    "    \n",
    "    sums = []\n",
    "    \n",
    "    # count the sum of rows\n",
    "    for i in range(len(s)):\n",
    "        \n",
    "        sums.append(get_sum(s, i, 0, 0, 1))\n",
    "        \n",
    "    # count the sum of colums\n",
    "    for i in range(len(s)):\n",
    "        \n",
    "        sums.append(get_sum(s, 0, i, 1, 0))\n",
    "    \n",
    "    # count the diagonals\n",
    "    sums.append(get_sum(s, 0, 0, 1, 1))\n",
    "    sums.append(get_sum(s, 0, len(s) - 1, 1, -1))\n",
    "    \n",
    "    print(sums)\n",
    "    \n",
    "    if sum(sums) / len(sums) == max(sums) == min(sums):\n",
    "        return True, sums\n",
    "    \n",
    "    return False, sums\n",
    "\n"
   ]
  },
  {
   "cell_type": "code",
   "execution_count": 40,
   "metadata": {},
   "outputs": [
    {
     "name": "stdout",
     "output_type": "stream",
     "text": [
      "[15, 15, 15, 15, 15, 15, 15, 15]\n"
     ]
    },
    {
     "data": {
      "text/plain": [
       "(True, [15, 15, 15, 15, 15, 15, 15, 15])"
      ]
     },
     "execution_count": 40,
     "metadata": {},
     "output_type": "execute_result"
    }
   ],
   "source": [
    "checkIfMagic(s)"
   ]
  },
  {
   "cell_type": "code",
   "execution_count": 41,
   "metadata": {
    "collapsed": true
   },
   "outputs": [],
   "source": [
    "def updateMatrix(s, sums):\n",
    "    \n",
    "    avg = sum(sums) / len(sums)\n",
    "    \n",
    "        \n",
    "def formingMagicSquare(s):\n",
    "    \n",
    "    cost = 0\n",
    "    \n",
    "    while True:\n",
    "        \n",
    "        magic, sums = checkIfMagic(s)\n",
    "        \n",
    "        if magic:\n",
    "            break\n",
    "        else:\n",
    "            # on observation, the average sum must be the same for each sums in a magic square\n",
    "            # therefore, we can check if a certain sum is not average, find a correspoding sum\n",
    "            # with the same difference (negative or positive)\n",
    "            \n",
    "            s, sub_cost = updateMatrix(s, sums)\n",
    "        \n",
    "        cost += sub_cost\n",
    "            \n",
    "    return cost"
   ]
  },
  {
   "cell_type": "markdown",
   "metadata": {},
   "source": [
    "## Picking Numbers ... see 2.0\n",
    "\n",
    "Given an array of integers, find and print the maximum number of integers you can select from the array such that the absolute difference between any two of the chosen integers is _<= 1_.\n",
    "\n",
    "Input Format\n",
    "\n",
    "The first line contains a single integer, _n_, denoting the size of the array. \n",
    "The second line contains _n_ space-separated integers describing the respective values of _[a0, a1, a2 ... an-1]_."
   ]
  },
  {
   "cell_type": "code",
   "execution_count": 42,
   "metadata": {
    "collapsed": true
   },
   "outputs": [],
   "source": [
    "def pickingNumbers(a):\n",
    "    \n",
    "    # Complete this function\n",
    "    \n",
    "    # we will need to get the combination all possible combinations of numbers in the list such that the absolute difference\n",
    "    # between the numbers in the list is <= 1\n",
    "    \n",
    "    # first, create a function that will output the different combinations of numbers from a list\n",
    "    # note that the minimum number of numbers is two since we have to get the difference\n",
    "    \n",
    "    def getCombinations(a, n):\n",
    "        \n",
    "        for i in range(len(a), 2, -1):\n",
    "            print(i)\n",
    "            \n",
    "    def satisfiedCondition(l):\n",
    "        \n",
    "        valid_idx = set()\n",
    "        \n",
    "        for i in range(len(l)):\n",
    "        \n",
    "            good = True\n",
    "        \n",
    "            for j in range(len(a)):\n",
    "            \n",
    "                if abs(a[i] - a[j]) <= 1:\n",
    "                    pass\n",
    "                else:\n",
    "                    good = False\n",
    "        \n",
    "        if good:\n",
    "            valid_idx.add(i)\n",
    "    \n",
    "        print(valid_idx)"
   ]
  },
  {
   "cell_type": "code",
   "execution_count": 43,
   "metadata": {
    "collapsed": true
   },
   "outputs": [],
   "source": [
    "a = [1, 2, 2, 3, 1, 2]\n",
    "\n",
    "pickingNumbers(a)"
   ]
  },
  {
   "cell_type": "code",
   "execution_count": 44,
   "metadata": {
    "collapsed": true
   },
   "outputs": [],
   "source": [
    "a = [4, 6, 5, 3, 3, 1]\n",
    "pickingNumbers(a)"
   ]
  },
  {
   "cell_type": "code",
   "execution_count": 45,
   "metadata": {},
   "outputs": [
    {
     "name": "stdout",
     "output_type": "stream",
     "text": [
      "[[6, 5, 3, 3, 1], [4, 5, 3, 3, 1], [4, 6, 3, 3, 1], [4, 6, 5, 3, 1], [4, 6, 5, 3, 1], [4, 6, 5, 3, 3]]\n"
     ]
    }
   ],
   "source": [
    "def getCombinationB(a, n):\n",
    "    \n",
    "    com = []\n",
    "    \n",
    "    # get indices to avoid depending on n\n",
    "    \n",
    "    #for i in range(n):\n",
    "        \n",
    "    for i in range(len(a)):\n",
    "        \n",
    "        com_one = []\n",
    "        \n",
    "        for ix, num in enumerate(a):\n",
    "            \n",
    "            if ix == i:\n",
    "                pass\n",
    "            else:\n",
    "                com_one.append(num)\n",
    "                \n",
    "        com.append(com_one)\n",
    "    \n",
    "    print(com)\n",
    "    \n",
    "getCombinationB(a, 5)"
   ]
  },
  {
   "cell_type": "code",
   "execution_count": 46,
   "metadata": {
    "collapsed": true
   },
   "outputs": [],
   "source": [
    "def getCombinationA(a, s, m, n, c_list, c_all):\n",
    "\n",
    "    # get the first item in the list and iterate thru the next combinations\n",
    "\n",
    "    if m - n + 1 == len(a):\n",
    " \n",
    "        while (s < m):\n",
    "            \n",
    "            c_list.append(a[s])\n",
    "            \n",
    "            print(c_list)\n",
    "            \n",
    "            c_all.append(c_list)\n",
    "            \n",
    "            print(c_all)\n",
    "            \n",
    "            c_list.pop()\n",
    "            \n",
    "            s += 1\n",
    "        \n",
    "    else:\n",
    " \n",
    "        while (s < m - n + 1):\n",
    "            \n",
    "            c_list.append(a[s])\n",
    "            \n",
    "            getCombinationA(a, s + 1, m, n - 1, c_list, c_all)\n",
    "\n",
    "            c_list.pop()\n",
    "            \n",
    "            s += 1\n",
    "            \n",
    "        print(c_all)\n",
    "            \n",
    "        \n"
   ]
  },
  {
   "cell_type": "code",
   "execution_count": 47,
   "metadata": {},
   "outputs": [
    {
     "name": "stdout",
     "output_type": "stream",
     "text": [
      "[4, 6, 5, 3, 3]\n",
      "[[4, 6, 5, 3, 3]]\n",
      "[4, 6, 5, 3, 1]\n",
      "[[4, 6, 5, 3, 1], [4, 6, 5, 3, 1]]\n",
      "[4, 6, 5, 3, 1]\n",
      "[[4, 6, 5, 3, 1], [4, 6, 5, 3, 1], [4, 6, 5, 3, 1]]\n",
      "[[4, 6, 5], [4, 6, 5], [4, 6, 5]]\n",
      "[4, 6, 3, 3, 1]\n",
      "[[4, 6, 3, 3, 1], [4, 6, 3, 3, 1], [4, 6, 3, 3, 1], [4, 6, 3, 3, 1]]\n",
      "[[4, 6, 3], [4, 6, 3], [4, 6, 3], [4, 6, 3]]\n",
      "[[4, 6], [4, 6], [4, 6], [4, 6]]\n",
      "[4, 5, 3, 3, 1]\n",
      "[[4, 5, 3, 3, 1], [4, 5, 3, 3, 1], [4, 5, 3, 3, 1], [4, 5, 3, 3, 1], [4, 5, 3, 3, 1]]\n",
      "[[4, 5, 3], [4, 5, 3], [4, 5, 3], [4, 5, 3], [4, 5, 3]]\n",
      "[[4, 5], [4, 5], [4, 5], [4, 5], [4, 5]]\n",
      "[[4], [4], [4], [4], [4]]\n",
      "[6, 5, 3, 3, 1]\n",
      "[[6, 5, 3, 3, 1], [6, 5, 3, 3, 1], [6, 5, 3, 3, 1], [6, 5, 3, 3, 1], [6, 5, 3, 3, 1], [6, 5, 3, 3, 1]]\n",
      "[[6, 5, 3], [6, 5, 3], [6, 5, 3], [6, 5, 3], [6, 5, 3], [6, 5, 3]]\n",
      "[[6, 5], [6, 5], [6, 5], [6, 5], [6, 5], [6, 5]]\n",
      "[[6], [6], [6], [6], [6], [6]]\n",
      "[[], [], [], [], [], []]\n",
      "[[], [], [], [], [], []]\n"
     ]
    }
   ],
   "source": [
    "a = [4, 6, 5, 3, 3, 1]\n",
    "\n",
    "c_list = []\n",
    "c_all  = []\n",
    "test = open('test.txt', 'w')\n",
    "\n",
    "getCombinationA(a, 0, 6, 5, c_list, c_all)\n",
    "print(c_all)"
   ]
  },
  {
   "cell_type": "code",
   "execution_count": 48,
   "metadata": {
    "collapsed": true
   },
   "outputs": [],
   "source": [
    "def getCombinationsC(a, s, n):\n",
    "    \n",
    "    # to get the combinations from a list, you need to know the length of the list, the number of selections.\n",
    "    # i.e. 4 of 5, 4 of 6, etc\n",
    "    \n",
    "    # initialize the indeces\n",
    "    idxs = [0 for i in range(len(a))]\n",
    "    \n",
    "    # each index will have a maximum value, depending on the number of selections\n",
    "    max_idx = len(a) - n\n",
    "    \n",
    "    # define a function that will iterate thru the index counters\n",
    "    \n",
    "    "
   ]
  },
  {
   "cell_type": "code",
   "execution_count": 49,
   "metadata": {
    "collapsed": true
   },
   "outputs": [],
   "source": [
    "a = [4, 6, 5, 3, 3, 1]\n",
    "idxs = [0 for i in range(len(a))]\n",
    "#idxm = [n + i - 1 for i in range(len(a))]\n",
    "#print(idxs)\n",
    "#print(idxm)"
   ]
  },
  {
   "cell_type": "code",
   "execution_count": 50,
   "metadata": {
    "collapsed": true
   },
   "outputs": [],
   "source": [
    "# Using itertools\n",
    "\n",
    "import itertools\n",
    "\n"
   ]
  },
  {
   "cell_type": "code",
   "execution_count": 51,
   "metadata": {
    "collapsed": true
   },
   "outputs": [],
   "source": [
    "x = list(itertools.combinations(a, 5))"
   ]
  },
  {
   "cell_type": "code",
   "execution_count": 52,
   "metadata": {
    "collapsed": true
   },
   "outputs": [],
   "source": [
    "y = list(x[0])"
   ]
  },
  {
   "cell_type": "code",
   "execution_count": 53,
   "metadata": {},
   "outputs": [
    {
     "data": {
      "text/plain": [
       "itertools.starmap"
      ]
     },
     "execution_count": 53,
     "metadata": {},
     "output_type": "execute_result"
    }
   ],
   "source": [
    "itertools.starmap"
   ]
  },
  {
   "cell_type": "markdown",
   "metadata": {
    "collapsed": true
   },
   "source": [
    "## The Hurdle Race\n",
    "\n",
    "Dan is playing a video game in which his character competes in a hurdle race by jumping over _n_ hurdles with heights _h0, h1..hn-1_. He can initially jump a maximum height of _k_ units, but he has an unlimited supply of magic beverages that help him jump higher! Dan can drink any number magic beverages and the maximum height he can jump during the entire race increases by the number of magic beverages he drink.\n",
    "\n",
    "Given _n_, _k_, and the heights of all the hurdles, find and print the minimum number of magic beverages Dan must drink to complete the race."
   ]
  },
  {
   "cell_type": "code",
   "execution_count": 54,
   "metadata": {
    "collapsed": true
   },
   "outputs": [],
   "source": [
    "def hurdleRace(k, height):\n",
    "    # Complete this function\n",
    "    \n",
    "    # get the maximum height in the list\n",
    "    \n",
    "    max_b = 0\n",
    "    \n",
    "    for h in height:\n",
    "        \n",
    "        if h > max_b:\n",
    "            max_b = h\n",
    "    \n",
    "    print(max_b)\n",
    "    # return the difference in the maximum height and the initial height\n",
    "    return max_b - k"
   ]
  },
  {
   "cell_type": "code",
   "execution_count": 55,
   "metadata": {},
   "outputs": [
    {
     "name": "stdout",
     "output_type": "stream",
     "text": [
      "6\n"
     ]
    },
    {
     "data": {
      "text/plain": [
       "2"
      ]
     },
     "execution_count": 55,
     "metadata": {},
     "output_type": "execute_result"
    }
   ],
   "source": [
    "height = [1, 6, 3, 5, 2]\n",
    "k = 4\n",
    "\n",
    "hurdleRace(4, height)"
   ]
  },
  {
   "cell_type": "markdown",
   "metadata": {
    "collapsed": true
   },
   "source": [
    "## Designer PDF Viewer\n",
    "\n",
    "When you select a contiguous block of text in a PDF viewer, the selection is highlighted with a blue rectangle. In this PDF viewer, each word is highlighted independently. For example:\n",
    "\n",
    "In this challenge, you will be given a list of letter heights in the alphabet and a string. Using the letter heights given, determine the area of the rectangle highlight in _mm^2_ assuming all letters are _m_ wide.\n",
    "\n",
    "Input Format\n",
    "\n",
    "The first line contains _26_ space-separated integers describing the respective heights of each consecutive lowercase English letter, ascii[a-z]. \n",
    "\n",
    "The second line contains a single word, consisting of lowercase English alphabetic letters.\n",
    "\n",
    "Constraints\n",
    "\n",
    "_1 <= h? <= 7_, where _?_ is an English lowercase letter.\n",
    "\n",
    "Word contains no more than 10 letters.\n"
   ]
  },
  {
   "cell_type": "code",
   "execution_count": 56,
   "metadata": {
    "collapsed": true
   },
   "outputs": [],
   "source": [
    "def designerPdfViewer(h, word):\n",
    "    # Complete this function\n",
    "    \n",
    "    # to highlight the word, we will be assuming that the highlight for each letter has a height equal to\n",
    "    # the tallest letter\n",
    "    \n",
    "    # to get the number, we can use the index of the letter in the alphabet\n",
    "    \n",
    "    max_height = 0\n",
    "    \n",
    "    alpha = 'abcdefghijklmnopqrstuvwxyz'\n",
    "    \n",
    "    for w in word:\n",
    "        \n",
    "        if max_height < h[alpha.index(w)]:\n",
    "            max_height = h[alpha.index(w)]\n",
    "            \n",
    "    # compute the area of the highlighted by multiplying the length of the word and the max height\n",
    "    \n",
    "    return max_height * len(word)\n",
    "        \n",
    "        "
   ]
  },
  {
   "cell_type": "code",
   "execution_count": 57,
   "metadata": {
    "collapsed": true
   },
   "outputs": [],
   "source": [
    "alpha = 'abcdefghijklmnopqrstuvwxyz'"
   ]
  },
  {
   "cell_type": "code",
   "execution_count": 58,
   "metadata": {},
   "outputs": [
    {
     "data": {
      "text/plain": [
       "1"
      ]
     },
     "execution_count": 58,
     "metadata": {},
     "output_type": "execute_result"
    }
   ],
   "source": [
    "alpha.index('b')"
   ]
  },
  {
   "cell_type": "markdown",
   "metadata": {},
   "source": [
    "## Utopian Tree\n",
    "\n",
    "The Utopian Tree goes through 2 cycles of growth every year. Each spring, it doubles in height. Each summer, its height increases by 1 meter.\n",
    "\n",
    "Laura plants a Utopian Tree sapling with a height of 1 meter at the onset of spring. How tall will her tree be after n growth cycles?"
   ]
  },
  {
   "cell_type": "code",
   "execution_count": 59,
   "metadata": {
    "collapsed": true
   },
   "outputs": [],
   "source": [
    "def utopianTree(n):\n",
    "    # Complete this function\n",
    "    \n",
    "    # since the tree was planted at the onset of spring, it will still grow during spring and\n",
    "    # the next growth cycle is assumed to be summer\n",
    "    # this means that for every odd growth cycle, the tree will double in height\n",
    "    \n",
    "    height = 1\n",
    "    \n",
    "    for i in range(1, n + 1):\n",
    "        \n",
    "        if i % 2 == 0:\n",
    "            height += 1\n",
    "        else:\n",
    "            height *= 2\n",
    "    \n",
    "    return height\n",
    "        \n",
    "            \n",
    "        "
   ]
  },
  {
   "cell_type": "markdown",
   "metadata": {},
   "source": [
    "## Angry Professor\n",
    "\n",
    "A Discrete Mathematics professor has a class of students. Frustrated with their lack of discipline, he decides to cancel class if fewer than some number of students are present when class starts. Arrival times go from on time _(arrival <= 0)_ to arrived late _(arrival > 0)_.\n",
    "\n",
    "Given the arrival time of each student, determine if the class is canceled."
   ]
  },
  {
   "cell_type": "code",
   "execution_count": 60,
   "metadata": {
    "collapsed": true
   },
   "outputs": [],
   "source": [
    "def angryProfessor(k, a):\n",
    "    # Complete this function\n",
    "    \n",
    "    # check the integers in the array. if it is less than or equal to 0, increment the counter, else decrement the \n",
    "    # counter\n",
    "    \n",
    "    counter = 0\n",
    "    \n",
    "    for t in a:\n",
    "        if t <= 0:\n",
    "            counter += 1\n",
    "    \n",
    "    return 'YES' if counter < k else 'NO'\n",
    "            \n"
   ]
  },
  {
   "cell_type": "code",
   "execution_count": 61,
   "metadata": {},
   "outputs": [
    {
     "data": {
      "text/plain": [
       "'YES'"
      ]
     },
     "execution_count": 61,
     "metadata": {},
     "output_type": "execute_result"
    }
   ],
   "source": [
    "a = [-1, -3, 4, 2]\n",
    "k = 3\n",
    "\n",
    "angryProfessor(k, a)"
   ]
  },
  {
   "cell_type": "markdown",
   "metadata": {
    "collapsed": true
   },
   "source": [
    "## Beautiful Days at the Movies\n",
    "\n",
    "Lily likes to play games with integers and their reversals. For some integer _x_, we define _reversed(x)_ to be the reversal of all digits in _x_. For example, _reversed(123) = 321, reversed(21) = 12, and reversed(120) = 21_.\n",
    "\n",
    "Logan wants to go to the movies with Lily on some day _x_ satisfying _i <= x <= j_, but he knows she only goes to the movies on days she considers to be beautiful. Lily considers a day to be beautiful if the absolute value of the difference between _x_ and  _reversed(x)_ is evenly divisible by _k_.\n",
    "\n",
    "Given _i_, _j_, and _k_, count and print the number of beautiful days when Logan and Lily can go to the movies."
   ]
  },
  {
   "cell_type": "code",
   "execution_count": 62,
   "metadata": {
    "collapsed": true
   },
   "outputs": [],
   "source": [
    "def beautifulDays(i, j, k):\n",
    "    # Complete this function\n",
    "\n",
    "    # first, create a list of days that Logan would want to go with Lily\n",
    "\n",
    "    days_list = []\n",
    "    \n",
    "    for num in range(i, j + 1):\n",
    "        days_list.append(num)\n",
    "    \n",
    "    # next, create a routine that will reverse the numbers in the list and load it to another list\n",
    "    \n",
    "    days_list_rev = []\n",
    "    \n",
    "    for day in days_list:\n",
    "        days_list_rev.append(int((str(day)[::-1])))\n",
    "        \n",
    "    # next, loop thru each list, get the corresponding differences and check if it is divisible by k\n",
    "    \n",
    "    happy_days = 0\n",
    "    \n",
    "    for i in range(len(days_list)):\n",
    "        \n",
    "        if abs(days_list[i] - days_list_rev[i]) % k == 0:\n",
    "            happy_days += 1\n",
    "            \n",
    "    return happy_days\n",
    "        "
   ]
  },
  {
   "cell_type": "code",
   "execution_count": 63,
   "metadata": {},
   "outputs": [
    {
     "data": {
      "text/plain": [
       "2"
      ]
     },
     "execution_count": 63,
     "metadata": {},
     "output_type": "execute_result"
    }
   ],
   "source": [
    "beautifulDays(20, 23, 6)"
   ]
  },
  {
   "cell_type": "markdown",
   "metadata": {},
   "source": [
    "## Viral Understanding\n",
    "\n",
    "HackerLand Enterprise is adopting a new viral advertising strategy. When they launch a new product, they advertise it to exactly  5 people on social media.\n",
    "\n",
    "On the first day, half of those 5 people (i.e., _floor(5/2) = 2_ ) like the advertisement and each person shares it with _3_ of their friends; the remaining people (i.e., _5 - floor(5/2) = 3_ ) delete the advertisement because it doesn't interest them. So, at the beginning of the second day, _floor(5/2) = 2 * 3 = 6 people receive the advertisement.\n",
    "\n",
    "On the second day, half of the _6_ people who received the advertisement share it with _3_ new friends. So, at the beginning of the third day, _9_ people receive the advertisement. The diagram below depicts the advertisement's virality over the first three days (green denotes a person that likes the advertisement and red denotes a person that disliked and deleted it):\n",
    "\n",
    "Assume that at the beginning of the _ith_ day, _m_ people received the advertisement, _floor(m/2)_ people like and share it with  _3_ new friends, and _m - floor(m/2)_ people dislike and delete it. At the beginning of the _(i + 1)th_ day, _floor(m/2) * 3_ people receive the advertisement.\n",
    "\n",
    "Given an integer, _n_, find and print the total number of people who liked HackerLand Enterprise's advertisement during the first _n_ days. It is guaranteed that no two people have any friends in common and, after a person shares the advertisement with a friend, the friend always sees it the next day."
   ]
  },
  {
   "cell_type": "code",
   "execution_count": 64,
   "metadata": {
    "collapsed": true
   },
   "outputs": [],
   "source": [
    "def viralAdvertising(n):\n",
    "    # Complete this function\n",
    "    \n",
    "    # initialize the count of people who received the advertisement and did something about it on the first day\n",
    "    # since the number is ALWAYS 5, then the like count will always start at 2\n",
    "    \n",
    "    like_count = 2\n",
    "    \n",
    "    # likewise, the receive count will start at 6\n",
    "    \n",
    "    receive_count = like_count * 3\n",
    "    \n",
    "    for i in range(1,n):\n",
    "        \n",
    "        like_received = int(receive_count / 2)\n",
    "            \n",
    "        like_count = like_count + like_received\n",
    "            \n",
    "        receive_count = like_received * 3\n",
    "            \n",
    "    return like_count\n",
    "        \n",
    "        "
   ]
  },
  {
   "cell_type": "code",
   "execution_count": 65,
   "metadata": {},
   "outputs": [
    {
     "data": {
      "text/plain": [
       "9"
      ]
     },
     "execution_count": 65,
     "metadata": {},
     "output_type": "execute_result"
    }
   ],
   "source": [
    "viralAdvertising(3)"
   ]
  },
  {
   "cell_type": "markdown",
   "metadata": {},
   "source": [
    "## Save the Prisoner ... to be continued\n",
    "\n",
    "A jail has a number of prisoners and a number of treats to pass out to them. Their jailer decides the fairest way to divide the treats is to seat the prisoners around a circular table in sequentially numbered chairs. A chair number will be drawn from a hat. Beginning with the prisoner in that chair, one candy will be handed to each prisoner sequentially around the table until all have been distributed.\n",
    "\n",
    "The jailer is playing a little joke, though. The last piece of candy looks like all the others, but it tastes awful. Determine the chair number occupied by the prisoner who will receive that candy.\n",
    "\n",
    "For example, there are _4_ prisoners and _6_ pieces of candy. The prisoners arrange themselves in seats numbered _0_ to _3_ . A two is drawn from the hat. Prisoners receive candy at positions _2, 3, 0, 1, 2, 3_. The prisoner to be warned sits in chair number _3_.\n",
    "\n",
    "#### Input Format\n",
    "\n",
    "The first line contains an integer, _t_ , denoting the number of test cases. \n",
    "The next  lines each contain _3_ space-separated integers: \n",
    "- n: the number of prisoners \n",
    "- m: the number of sweets \n",
    "- s: the chair number to start passing out treats at"
   ]
  },
  {
   "cell_type": "code",
   "execution_count": 66,
   "metadata": {
    "collapsed": true
   },
   "outputs": [],
   "source": [
    "def saveThePrisoner(n, m, s):\n",
    "    # Complete this function\n",
    "    \n",
    "    # create a list of the seats, starting from 0, that shows the order in which the chairs will be drawn\n",
    "    \n",
    "    seats = []\n",
    "    \n",
    "    for i in range(n):\n",
    "        \n",
    "        if i + s < n:\n",
    "            seats.append(i + s)\n",
    "        else:\n",
    "            seats.append(i + s - n)\n",
    "\n",
    "    print(seats)\n",
    "    \n",
    "    # now that we have a list and we know it's lenght, we can calculate the position where the last candy will be given\n",
    "    # to calculate, we simply divide the number of sweets by the number of seats and subtract 1\n",
    "    \n",
    "    remainder = m % n\n",
    "    print(remainder)\n",
    "    \n",
    "    if remainder == 0:\n",
    "        # return the last seat in the rotation\n",
    "        return seats[-1]\n",
    "    else:\n",
    "        # the index of the seat will be the remainder less 1, since the index starts at 0\n",
    "        return seats[remainder - 1]\n",
    "\n",
    "    "
   ]
  },
  {
   "cell_type": "code",
   "execution_count": 67,
   "metadata": {},
   "outputs": [
    {
     "name": "stdout",
     "output_type": "stream",
     "text": [
      "[0]\n",
      "0\n"
     ]
    },
    {
     "data": {
      "text/plain": [
       "0"
      ]
     },
     "execution_count": 67,
     "metadata": {},
     "output_type": "execute_result"
    }
   ],
   "source": [
    "saveThePrisoner(1, 1, 1)"
   ]
  },
  {
   "cell_type": "code",
   "execution_count": 68,
   "metadata": {},
   "outputs": [
    {
     "name": "stdout",
     "output_type": "stream",
     "text": [
      "[2, 3, 0, 1]\n",
      "2\n"
     ]
    },
    {
     "data": {
      "text/plain": [
       "3"
      ]
     },
     "execution_count": 68,
     "metadata": {},
     "output_type": "execute_result"
    }
   ],
   "source": [
    "saveThePrisoner(4, 6, 2)"
   ]
  },
  {
   "cell_type": "markdown",
   "metadata": {},
   "source": [
    "## Sequence Equation\n",
    "\n",
    "You are given a sequence of _n_ integers, _p1, p2...pn_ . Each element in the sequence is distinct and satisfies _1 <= p <= n_. For each _x_ where _1 <= x <= n_, find any integer _y_ such that _p(p(y)) = x _ and print the value of  on a new line."
   ]
  },
  {
   "cell_type": "code",
   "execution_count": 69,
   "metadata": {
    "collapsed": true
   },
   "outputs": [],
   "source": [
    "def permutationEquation(p):\n",
    "    # Complete this function\n",
    "\n",
    "    # Based on the question, it seems this problem is asking for the position p1 of the number within a list, and the\n",
    "    # corresponding position p2 of that number\n",
    "    \n",
    "    # since the numbers in the list are distinct, we can do a sort first so we can iterate for each number\n",
    "    sorted_p = sorted(p)\n",
    "\n",
    "    # initialize the output list\n",
    "    p_out = []\n",
    "    \n",
    "    # sort thru the list of distinct values\n",
    "    for s in sorted_p:\n",
    "        \n",
    "        # get the position of the number s in the original list. note that the value must be incremented by 1 since we are using\n",
    "        # index\n",
    "        p1 = p.index(s) + 1\n",
    "        \n",
    "        # now get the position of this number p1 in the original list. again, increment the\n",
    "        p2 = p.index(p1) + 1\n",
    "        \n",
    "        p_out.append(p2)\n",
    "    \n",
    "    return p_out"
   ]
  },
  {
   "cell_type": "code",
   "execution_count": 70,
   "metadata": {},
   "outputs": [
    {
     "data": {
      "text/plain": [
       "[2, 3, 1]"
      ]
     },
     "execution_count": 70,
     "metadata": {},
     "output_type": "execute_result"
    }
   ],
   "source": [
    "permutationEquation([2, 3, 1])"
   ]
  },
  {
   "cell_type": "markdown",
   "metadata": {},
   "source": [
    "## Jumping on the Clouds: Revisited\n",
    "\n",
    "Aerith is playing a cloud hopping game. In this game, there are sequentially numbered clouds that can be thunderheads or cumulus clouds. Her character must jump from cloud to cloud until it reaches the start again.\n",
    "\n",
    "To play, Aerith is given an array of clouds, _c_ and an energy level _e = 100 _. She starts from _c[0]_  and uses _1_ unit of energy to make a jump of size _k_ to cloud **_c[(i + k) % n]_**. If Aerith lands on a thundercloud, _c[1]_, her energy (_E_) decreases by _2_ additional units. The game ends when Aerith lands back on cloud 0.\n",
    "\n",
    "Given the values of _n_, _k_, and the configuration of the clouds as an array _c_, can you determine the final value of _e_ after the game ends?\n",
    "\n",
    "For example, give _**c = [0, 0, 1, 0]**_ and _**k=2**_, the indices of her path are _**0 -> 2 -> 0**_. Her energy level reduces by _**1**_ for each jump to _**98**_. She landed on one thunderhead at an additional cost of _**2**_ energy units. Her final energy level is _**96**_."
   ]
  },
  {
   "cell_type": "code",
   "execution_count": 71,
   "metadata": {
    "collapsed": true
   },
   "outputs": [],
   "source": [
    "def jumpingOnClouds(c, k):\n",
    "    # Complete this function\n",
    "\n",
    "    # get the length of the cloud\n",
    "    n = len(c)\n",
    "\n",
    "    # set the energy level initial value\n",
    "    e = 100\n",
    "    \n",
    "    # the problem involves going forward and back again to the first item. The formula for moving forward is given\n",
    "    idx = 0\n",
    "    \n",
    "    while True:\n",
    "        \n",
    "        # subtract 1 from e for each step\n",
    "        e -= 1\n",
    "        \n",
    "        # check if the cloud is a thunder cloud, and subtract another 2 from e\n",
    "        if c[idx] == 1:\n",
    "            e -= 2\n",
    "        \n",
    "        # compute the next index value\n",
    "        idx = (idx + k) % n\n",
    "\n",
    "        # if the next index is the starting index, then exit the loop\n",
    "        if idx == 0:\n",
    "            break\n",
    "\n",
    "    return e\n",
    "        \n",
    "    \n",
    "    "
   ]
  },
  {
   "cell_type": "code",
   "execution_count": 72,
   "metadata": {},
   "outputs": [
    {
     "data": {
      "text/plain": [
       "96"
      ]
     },
     "execution_count": 72,
     "metadata": {},
     "output_type": "execute_result"
    }
   ],
   "source": [
    "c = [0, 0, 1, 0]\n",
    "k = 2\n",
    "jumpingOnClouds(c, k)"
   ]
  },
  {
   "cell_type": "markdown",
   "metadata": {
    "collapsed": true
   },
   "source": [
    "## Climbing the Leaderboard...works but times out\n",
    "\n",
    "Alice is playing an arcade game and wants to climb to the top of the leaderboard. Can you help her track her ranking as she beats each level? The game uses Dense Ranking, so its leaderboard works like this:\n",
    "\n",
    "- The player with the highest score is ranked number _**1**_  on the leaderboard.\n",
    "\n",
    "- Players who have equal scores receive the same ranking number, and the next player(s) receive the immediately following ranking number. For example, four players have the scores 100, 90, 90, and 80. Those players will have ranks 1, 2, 2, and 3, respectively.\n",
    "\n",
    "When Alice starts playing, there are already _**n**_ people on the leaderboard. The score of each player _**i**_ is denoted by _**si**_. Alice plays for _**m**_ levels, and we denote her total score after passing each level _**j**_ as _**alicej**_. After completing each level, Alice wants to know her current rank.\n",
    "\n",
    "You are given an array, _**score**_, of monotonically decreasing leaderboard scores, and another array, _**alice**_, of Alice's cumulative scores for each level of the game. You must print _**m**_ integers. The _**jth**_ integer should indicate the current rank of alice after passing the _**jth**_ level."
   ]
  },
  {
   "cell_type": "code",
   "execution_count": 73,
   "metadata": {
    "collapsed": true
   },
   "outputs": [],
   "source": [
    "def climbingLeaderboard(scores, alice):\n",
    "    #\n",
    "    # Write your code here.\n",
    "    #\n",
    "    \n",
    "    # initialize the output list \n",
    "    rank = []\n",
    "    \n",
    "    # for this problem, we can do the following program flow\n",
    "    # 1. get alice's score\n",
    "    # 2. compare alice's score to the rest of the current scores\n",
    "    # 3. return to item 1\n",
    "    \n",
    "    # comparing alice's score to the current scores will be executed multiple time, so it is best to create a function for this\n",
    "    \n",
    "    def compareScore(scores, a):\n",
    "        \n",
    "        # note the position where alice's score needs to be placed\n",
    "        \n",
    "        # if the score is equal to alice's score, then place alice's score ahead of them\n",
    "        a_pos = 200\n",
    "        \n",
    "        for s in range(len(scores)):\n",
    "            \n",
    "            if scores[s] <= a:\n",
    "                if a_pos == 0:\n",
    "                    pass\n",
    "                else:\n",
    "                    a_pos = s\n",
    "                    break\n",
    "            \n",
    "        # use insert to insert alice's score before position set\n",
    "        \n",
    "        scores.insert(a_pos, a)\n",
    "        \n",
    "        print(scores)\n",
    "        \n",
    "        return scores\n",
    "    \n",
    "    def getRank(scores, a):\n",
    "        \n",
    "        # assuming the list is sorted, we can just copy the scores to another list that will contain only the unique\n",
    "        # values. the index of alice's score will then indicate the rank\n",
    "        \n",
    "        unique_scores = []\n",
    "        \n",
    "        for s in scores:\n",
    "            \n",
    "            if s in unique_scores:\n",
    "                pass\n",
    "            else:\n",
    "                unique_scores.append(s)\n",
    "        \n",
    "        return unique_scores.index(a) + 1\n",
    "            \n",
    "    for a in alice:\n",
    "        \n",
    "        prev_a = a\n",
    "        \n",
    "        scores = compareScore(scores, a)\n",
    "        \n",
    "        rank.append(getRank(scores, a))\n",
    "        \n",
    "        scores.pop(scores.index(a))\n",
    "        \n",
    "    return rank "
   ]
  },
  {
   "cell_type": "code",
   "execution_count": 74,
   "metadata": {
    "collapsed": true
   },
   "outputs": [],
   "source": [
    "scores = [100, 100, 50, 40, 40, 20, 10]\n",
    "alice = [5, 25, 50, 120]"
   ]
  },
  {
   "cell_type": "code",
   "execution_count": 75,
   "metadata": {},
   "outputs": [
    {
     "name": "stdout",
     "output_type": "stream",
     "text": [
      "[100, 100, 50, 40, 40, 20, 10, 5]\n",
      "[100, 100, 50, 40, 40, 25, 20, 10]\n",
      "[100, 100, 50, 50, 40, 40, 20, 10]\n",
      "[120, 100, 100, 50, 40, 40, 20, 10]\n"
     ]
    },
    {
     "data": {
      "text/plain": [
       "[6, 4, 2, 1]"
      ]
     },
     "execution_count": 75,
     "metadata": {},
     "output_type": "execute_result"
    }
   ],
   "source": [
    "climbingLeaderboard(scores, alice)"
   ]
  },
  {
   "cell_type": "markdown",
   "metadata": {},
   "source": [
    "## Find Digits\n",
    "\n",
    "An integer _**d**_ is a divisor of an integer _**n**_ if the remainder of _**n / d = 0**_.\n",
    "\n",
    "Given an integer, for each digit that makes up the integer determine whether it is a divisor. Count the number of divisors occurring within the integer.\n",
    "\n",
    "Note: Each digit is considered to be unique, so each occurrence of the same digit should be counted (e.g. for 111, 1 is a divisor of 1 each time it occurs so the answer is 3)."
   ]
  },
  {
   "cell_type": "code",
   "execution_count": 76,
   "metadata": {
    "collapsed": true
   },
   "outputs": [],
   "source": [
    "def findDigits(n):\n",
    "    # Complete this function\n",
    "\n",
    "    # this problem involves two steps. first is to determine the different digits in the number given, and then \n",
    "    # dividing the number by each of the digits\n",
    "    \n",
    "    # to get the list of numbers, we can write a recursive function\n",
    "    \n",
    "    def getDigits(n):\n",
    "        \n",
    "        if len(str(n)) == 1:\n",
    "            return str(n)\n",
    "        else:\n",
    "            return str(n % 10) + '-' + getDigits(int(n/10))\n",
    "    \n",
    "    # after getting the digits, cast them to a list and the divide the number by each\n",
    "    # make sure to use try except to avoid\n",
    "    \n",
    "    digits = list(map(int, getDigits(n).split('-')))\n",
    "    \n",
    "    valid = 0\n",
    "    \n",
    "    for d in digits:\n",
    "        try:\n",
    "            if n % d == 0:\n",
    "                valid += 1\n",
    "        except:\n",
    "            continue\n",
    "    \n",
    "    return valid"
   ]
  },
  {
   "cell_type": "code",
   "execution_count": 77,
   "metadata": {},
   "outputs": [
    {
     "data": {
      "text/plain": [
       "3"
      ]
     },
     "execution_count": 77,
     "metadata": {},
     "output_type": "execute_result"
    }
   ],
   "source": [
    "findDigits(111)"
   ]
  },
  {
   "cell_type": "markdown",
   "metadata": {},
   "source": [
    "## Append and Delete\n",
    "\n",
    "You have a string, _**s**_, of lowercase English alphabetic letters. You can perform two types of operations on _**s**_:\n",
    "\n",
    "- Append a lowercase English alphabetic letter to the end of the string.\n",
    "- Delete the last character in the string. Performing this operation on an empty string results in an empty string.\n",
    "\n",
    "Given an integer, _**k**_, and two strings, _**s**_ and _**t**_, determine whether or not you can convert _**s**_ to _**t**_ by performing exactly _**k**_ of the above operations on _**s**_. If it's possible, print Yes; otherwise, print No."
   ]
  },
  {
   "cell_type": "code",
   "execution_count": 78,
   "metadata": {
    "collapsed": true
   },
   "outputs": [],
   "source": [
    "def appendAndDelete(s, t, k):\n",
    "    # Complete this function\n",
    "\n",
    "    # this problem involves matching the strings s and t by first reducing it to a common base, and then adding letters in the\n",
    "    # alphabet to match them exactly\n",
    "    \n",
    "    oper_count = 0\n",
    "    alpha = 'abcdefghijklmnopqrstuvwxyz'\n",
    "    \n",
    "    # since we do not know which is longer, we will start by removing characters from the front instead of the back\n",
    "    # and then compare\n",
    "        \n",
    "    s_base = ''\n",
    "    t_base = ''\n",
    "    idx = 1\n",
    "    \n",
    "    while (s_base == t_base):\n",
    "        s_base = s[:idx]\n",
    "        t_base = t[:idx]\n",
    "\n",
    "        idx += 1\n",
    "        \n",
    "        if idx > min(len(s), len(t)):\n",
    "            break\n",
    "        \n",
    "    # the difference between the length of s_base and s will be the number of letters to be removed from s\n",
    "    # but first, pop the last letter from s_base\n",
    "        \n",
    "    s_base = s_base[:idx - 2]\n",
    "    print(s_base)\n",
    "    oper_count += len(s) - len(s_base)                             \n",
    "\n",
    "    # create a loop that will add letters from the alphabet one at a time to s_base\n",
    "    \n",
    "    while (len(s_base) < len(t)):\n",
    "        \n",
    "        for a in alpha:\n",
    "            if s_base + a == t[:len(s_base) + 1]:\n",
    "                \n",
    "                s_base = s_base + a\n",
    "                print(s_base)\n",
    "                oper_count += 1\n",
    "                \n",
    "                break\n",
    "                \n",
    "    return 'Yes' if oper_count <= k else 'No'\n",
    "            \n",
    "            "
   ]
  },
  {
   "cell_type": "code",
   "execution_count": 79,
   "metadata": {
    "collapsed": true
   },
   "outputs": [],
   "source": [
    "s = 'hackerhappy'\n",
    "t = 'hackerrank'\n",
    "k = 9"
   ]
  },
  {
   "cell_type": "code",
   "execution_count": 80,
   "metadata": {},
   "outputs": [
    {
     "name": "stdout",
     "output_type": "stream",
     "text": [
      "hacker\n",
      "hackerr\n",
      "hackerra\n",
      "hackerran\n",
      "hackerrank\n"
     ]
    },
    {
     "data": {
      "text/plain": [
       "'Yes'"
      ]
     },
     "execution_count": 80,
     "metadata": {},
     "output_type": "execute_result"
    }
   ],
   "source": [
    "appendAndDelete(s, t, k)"
   ]
  },
  {
   "cell_type": "code",
   "execution_count": 81,
   "metadata": {},
   "outputs": [
    {
     "name": "stdout",
     "output_type": "stream",
     "text": [
      "ab\n",
      "aba\n"
     ]
    },
    {
     "data": {
      "text/plain": [
       "'Yes'"
      ]
     },
     "execution_count": 81,
     "metadata": {},
     "output_type": "execute_result"
    }
   ],
   "source": [
    "s = 'aba'\n",
    "t = 'aba'\n",
    "k = 7\n",
    "appendAndDelete(s, t, k)"
   ]
  },
  {
   "cell_type": "code",
   "execution_count": 82,
   "metadata": {},
   "outputs": [
    {
     "name": "stdout",
     "output_type": "stream",
     "text": [
      "check\n",
      "checke\n",
      "checker\n"
     ]
    },
    {
     "data": {
      "text/plain": [
       "'Yes'"
      ]
     },
     "execution_count": 82,
     "metadata": {},
     "output_type": "execute_result"
    }
   ],
   "source": [
    "s = 'checkmate'\n",
    "t = 'checker'\n",
    "k = 7\n",
    "appendAndDelete(s, t, k)"
   ]
  },
  {
   "cell_type": "code",
   "execution_count": 83,
   "metadata": {
    "collapsed": true
   },
   "outputs": [],
   "source": [
    "alpha = 'abcdefghijklmnopqrstuvwxyz'\n",
    "def nextAlpha():\n",
    "    for a in alpha:\n",
    "        yield a"
   ]
  },
  {
   "cell_type": "code",
   "execution_count": 84,
   "metadata": {
    "collapsed": true
   },
   "outputs": [],
   "source": [
    "next_letter = nextAlpha()"
   ]
  },
  {
   "cell_type": "code",
   "execution_count": 85,
   "metadata": {},
   "outputs": [
    {
     "name": "stdout",
     "output_type": "stream",
     "text": [
      "a\n"
     ]
    }
   ],
   "source": [
    "print(next(next_letter))"
   ]
  },
  {
   "cell_type": "code",
   "execution_count": 86,
   "metadata": {
    "collapsed": true
   },
   "outputs": [],
   "source": [
    "# The solution above is not exactly correct since we are doing other operations\n",
    "\n",
    "def appendAndDelete(s, t, k):\n",
    "    # Complete this function\n",
    "    \n",
    "    # initialize the counter\n",
    "    \n",
    "    app_del_count = 0\n",
    "    alpha = 'abcdefghijklmnopqrstuvwxyz'\n",
    "    \n",
    "    # also create copies of the list\n",
    "    \n",
    "    t_orig = t\n",
    "    s_orig = s\n",
    "    \n",
    "    # create function that will remove the last letter\n",
    "    def removeLetter(str_in):\n",
    "        \n",
    "        if len(str_in) == 0:\n",
    "            return ''\n",
    "        \n",
    "        return str_in[:len(str_in) - 1]\n",
    "    \n",
    "    def nextAlpha():\n",
    "        for a in alpha:\n",
    "            yield a\n",
    "            \n",
    "    # create function that will add a letter from the alphabet\n",
    "    # this is a bit tricky since we have to track which letter has been\n",
    "    def appendLetter(str_in, next_letter):\n",
    "        \n",
    "        return str_in + next_letter\n",
    "        \n",
    "    # first, check if the length of each string is a match. if it is, proceed, otherwise remove letters from the one with the\n",
    "    # longer length\n",
    "    \n",
    "    # if the lengths are the same, do not remove letters\n",
    "    if len(s) == len(t):\n",
    "        pass\n",
    "    \n",
    "    # if s is less than t, remove letters from t until they are equal\n",
    "    elif len(s) < len(t):\n",
    "        \n",
    "        while (len(s) < len(t)):\n",
    "            \n",
    "            t = removeLetter(t)\n",
    "            \n",
    "   \n",
    "    # if t is less that s, remove letters from s until they are equal\n",
    "    else:\n",
    "        \n",
    "        while (len(t) < len(s)):\n",
    "            \n",
    "            s = removeLetter(s)\n",
    "            \n",
    "            app_del_count += 1\n",
    "\n",
    "    # continue removing letters from each string\n",
    "    \n",
    "    for i in range(len(s)):\n",
    "\n",
    "        if t == s:\n",
    "            break\n",
    "\n",
    "        t = removeLetter(t)\n",
    "        s = removeLetter(s)\n",
    "        \n",
    "        app_del_count += 1\n",
    "\n",
    "    # at this point both strings may be empty, but it does not matter for t. we just need to add letters to s until\n",
    "    # they match t or t_orig\n",
    "    \n",
    "    while (s != t_orig):\n",
    "        \n",
    "        next_letter = nextAlpha()\n",
    "        \n",
    "        for i in range(26):\n",
    "            \n",
    "            letter_to_add = next(next_letter)\n",
    "            \n",
    "            s = appendLetter(s, letter_to_add)\n",
    "                        \n",
    "            if s == t_orig[:len(s)]:\n",
    "                app_del_count += 1\n",
    "                break\n",
    "            else:\n",
    "                s = removeLetter(s)\n",
    "    \n",
    "    return 'Yes' if app_del_count <= k else 'No'\n",
    "    \n",
    "        \n",
    "            \n"
   ]
  },
  {
   "cell_type": "code",
   "execution_count": 87,
   "metadata": {
    "collapsed": true
   },
   "outputs": [],
   "source": [
    "s = 'hackerhappy'\n",
    "t = 'hackerrank'\n",
    "k = 9"
   ]
  },
  {
   "cell_type": "code",
   "execution_count": 88,
   "metadata": {},
   "outputs": [
    {
     "data": {
      "text/plain": [
       "'Yes'"
      ]
     },
     "execution_count": 88,
     "metadata": {},
     "output_type": "execute_result"
    }
   ],
   "source": [
    "appendAndDelete(s, t, k)"
   ]
  },
  {
   "cell_type": "code",
   "execution_count": 89,
   "metadata": {},
   "outputs": [
    {
     "data": {
      "text/plain": [
       "'Yes'"
      ]
     },
     "execution_count": 89,
     "metadata": {},
     "output_type": "execute_result"
    }
   ],
   "source": [
    "s = 'aba'\n",
    "t = 'aba'\n",
    "k = 7\n",
    "appendAndDelete(s, t, k)"
   ]
  },
  {
   "cell_type": "markdown",
   "metadata": {},
   "source": [
    "## Equalize the array\n",
    "\n",
    "Karl has an array of _**n**_ integers defined as _**A = [a0, a1 ... an]**_. In one operation, he can delete any element from the array.\n",
    "\n",
    "Karl wants all the elements of the array to be equal to one another. To do this, he must delete zero or more elements from the array. Find and print the minimum number of deletion operations Karl must perform so that all the array's elements are equal."
   ]
  },
  {
   "cell_type": "code",
   "execution_count": 90,
   "metadata": {
    "collapsed": true
   },
   "outputs": [],
   "source": [
    "def equalizeArray(arr):\n",
    "    # Complete this function\n",
    "\n",
    "    # since we are to get the most common number in the array, we can do a count on the list for each element\n",
    "    # to determine which is the most common\n",
    "    most_common = 0\n",
    "    hi_count = 0\n",
    "    \n",
    "    for a in arr:\n",
    "        \n",
    "        if arr.count(a) > hi_count:\n",
    "            most_common = a\n",
    "            hi_count = arr.count(a)\n",
    "            \n",
    "    # use list comprehension to get how many numbers are not equal to the most common number\n",
    "    \n",
    "    return len([a for a in arr if a != most_common])\n",
    "        \n"
   ]
  },
  {
   "cell_type": "code",
   "execution_count": 91,
   "metadata": {
    "collapsed": true
   },
   "outputs": [],
   "source": [
    "arr = [3, 3, 2, 1, 3]"
   ]
  },
  {
   "cell_type": "code",
   "execution_count": 92,
   "metadata": {},
   "outputs": [
    {
     "data": {
      "text/plain": [
       "2"
      ]
     },
     "execution_count": 92,
     "metadata": {},
     "output_type": "execute_result"
    }
   ],
   "source": [
    "equalizeArray(arr)"
   ]
  },
  {
   "cell_type": "markdown",
   "metadata": {
    "collapsed": true
   },
   "source": [
    "## Circular Array Rotation...terminating due to timeout\n",
    "\n",
    "John Watson knows of an operation called a right circular rotation on an array of integers. One rotation operation moves the last array element to the first position and shifts all remaining elements right one. To test Sherlock's abilities, Watson provides Sherlock with an array of integers. Sherlock is to perform the rotation operation a number of times then determine the value of the element at a given position.\n",
    "\n",
    "For each array, perform a number of right circular rotations and return the value of the element at a given index.\n",
    "\n",
    "**Note:** The function below works, but is timing out. Upon investigation, it seems the TCs where it timed out have large amounts of input, thus the timeout. The code will then need to be optimized."
   ]
  },
  {
   "cell_type": "code",
   "execution_count": 93,
   "metadata": {
    "collapsed": true
   },
   "outputs": [],
   "source": [
    "def circularArrayRotation(a, k, m):\n",
    "    # Complete this function\n",
    "    \n",
    "    # for this problem, we have to create a function that will rotate the integers in the array until the first item is the \n",
    "    # last item and the last item is the first\n",
    "    \n",
    "    def rotate(a, k):\n",
    "        \n",
    "        # to rotate the item, what we can do is use python's pop list function a number of times equivalent to the\n",
    "        # length of the array less 1.\n",
    "        \n",
    "        # since we are doing some concatenations, it is best to convert the integers in the list into strings\n",
    "        \n",
    "        # solution 1\n",
    "        #a_list = list(map(str, a))\n",
    "\n",
    "        #last_item = str(a_list.pop())\n",
    "            \n",
    "        # create a temp list and append the last item and the rest of the remaining contents of a_list\n",
    "        #b_list = []\n",
    "            \n",
    "        #b_list.append(last_item)\n",
    "            \n",
    "        #for i in range(len(a_list)):\n",
    "        #    b_list.append(a_list.pop(0))\n",
    "                \n",
    "        # set a_list to be the b_list\n",
    "        #a_list = b_list\n",
    "\n",
    "        # after rotation, convert the list of strings back to integers\n",
    "        #a = list(map(int, a_list))\n",
    "        \n",
    "        # solution 2 - still timing out. explore using generators instead of calling a function several times\n",
    "        #temp_list = []\n",
    "        #temp_list.append(a[-1])\n",
    "        \n",
    "        #a = temp_list + a[:-1]\n",
    "        \n",
    "        # using math: for 1 rotation, the index of the first item will move 1. if the number of rotations is more than\n",
    "        # the length of the array, we can just get the modulo\n",
    "        \n",
    "        # solution 3: works much better with no timeouts\n",
    "        mod = len(a) % k\n",
    "        \n",
    "        a = a[mod:] + a[:mod]\n",
    "\n",
    "        return a\n",
    "    \n",
    "    # call rotate the same number of times as the length less 1\n",
    "    # removed the loop\n",
    "    \n",
    "    a = rotate(a, k)\n",
    "                       \n",
    "    print(a)\n",
    "    \n",
    "    # after rotating a, we create a list of items corresponding to the indeces specified in m\n",
    "    \n",
    "    results = []\n",
    "    \n",
    "    for idx in m:\n",
    "        results.append(a[idx])\n",
    "        \n",
    "    print(results)\n",
    "    return results\n",
    "    \n",
    "        "
   ]
  },
  {
   "cell_type": "code",
   "execution_count": 94,
   "metadata": {},
   "outputs": [
    {
     "name": "stdout",
     "output_type": "stream",
     "text": [
      "[4, 3, 2, 5, 6, 7, 1]\n",
      "[4, 3, 2]\n"
     ]
    },
    {
     "data": {
      "text/plain": [
       "[4, 3, 2]"
      ]
     },
     "execution_count": 94,
     "metadata": {},
     "output_type": "execute_result"
    }
   ],
   "source": [
    "a = [1, 4, 3, 2, 5, 6, 7]\n",
    "m = [0, 1, 2]\n",
    "circularArrayRotation(a, 2, m)"
   ]
  },
  {
   "cell_type": "code",
   "execution_count": 95,
   "metadata": {},
   "outputs": [
    {
     "name": "stdout",
     "output_type": "stream",
     "text": [
      "[596, 53804, 13567, 538, 55791, 75204, 15873, 98117, 41061, 49377, 64425, 62232, 49127, 20342, 99276, 24860, 25787, 81841, 97359, 7404, 34400, 37174, 73359, 257, 88477, 28020, 25920, 62652, 3228, 20401, 99722, 20175, 74204, 29640, 20713, 29994, 4843, 52937, 28110, 45903, 18665, 92535, 24487, 67791, 29228, 23762, 9002, 71367, 21955, 6360, 78770, 56354, 59886, 68480, 72962, 48362, 96499, 15233, 11013, 99726, 35633, 27086, 36253, 9836, 73077, 56965, 39830, 77919, 26253, 84291, 40174, 44918]\n",
      "[596, 29994, 538, 55791, 55791, 52937, 24487, 36253, 4843, 56354, 73077, 6360]\n"
     ]
    },
    {
     "data": {
      "text/plain": [
       "[596, 29994, 538, 55791, 55791, 52937, 24487, 36253, 4843, 56354, 73077, 6360]"
      ]
     },
     "execution_count": 95,
     "metadata": {},
     "output_type": "execute_result"
    }
   ],
   "source": [
    "a = [596, 53804, 13567, 538, 55791, 75204, 15873, 98117, 41061, 49377, 64425, 62232, 49127, 20342,\n",
    "     99276, 24860, 25787, 81841, 97359, 7404, 34400, 37174, 73359, 257, 88477, 28020, 25920, 62652,\n",
    "     3228, 20401, 99722, 20175, 74204, 29640, 20713, 29994, 4843, 52937, 28110, 45903, 18665, 92535,\n",
    "     24487, 67791, 29228, 23762, 9002, 71367, 21955, 6360, 78770, 56354, 59886, 68480, 72962, 48362,\n",
    "     96499, 15233, 11013, 99726, 35633, 27086, 36253, 9836, 73077, 56965, 39830, 77919, 26253, 84291, 40174, 44918]\n",
    "\n",
    "m = [0, 35, 3, 4, 4, 37, 42, 62, 36, 51, 64, 49]\n",
    "\n",
    "circularArrayRotation(a, 72, m)"
   ]
  },
  {
   "cell_type": "code",
   "execution_count": 96,
   "metadata": {},
   "outputs": [
    {
     "data": {
      "text/plain": [
       "[6, 1, 2, 3, 4, 5]"
      ]
     },
     "execution_count": 96,
     "metadata": {},
     "output_type": "execute_result"
    }
   ],
   "source": [
    "l1 = [1, 2, 3, 4, 5, 6]\n",
    "mod = len(l1) - 7\n",
    "\n",
    "l2 = l1[mod:] + l1[:mod]\n",
    "l2"
   ]
  },
  {
   "cell_type": "code",
   "execution_count": 97,
   "metadata": {},
   "outputs": [
    {
     "data": {
      "text/plain": [
       "[6, 1, 2, 3, 4, 5]"
      ]
     },
     "execution_count": 97,
     "metadata": {},
     "output_type": "execute_result"
    }
   ],
   "source": [
    "l2 = [value for indx, value in enumerate(l1) if indx == len(l1) - 1] + \\\n",
    "     [value for indx, value in enumerate(l1) if indx != len(l1) - 1]\n",
    "     \n",
    "l2"
   ]
  },
  {
   "cell_type": "code",
   "execution_count": 98,
   "metadata": {},
   "outputs": [
    {
     "name": "stdout",
     "output_type": "stream",
     "text": [
      "1\n"
     ]
    },
    {
     "data": {
      "text/plain": [
       "[2, 3, 4, 5, 6, 1]"
      ]
     },
     "execution_count": 98,
     "metadata": {},
     "output_type": "execute_result"
    }
   ],
   "source": [
    "l1 = [1, 2, 3, 4, 5, 6]\n",
    "k = 1\n",
    "mod = len(l1) % k\n",
    "if mod == 0:\n",
    "    mod = k\n",
    "\n",
    "print(mod)\n",
    "\n",
    "l2 = l1[mod:] + l1[:mod]\n",
    "l2"
   ]
  },
  {
   "cell_type": "markdown",
   "metadata": {
    "collapsed": true
   },
   "source": [
    "## Cut the sticks\n",
    "\n",
    "You are given a number of sticks of varying lengths. You will iteratively cut the sticks into smaller sticks, discarding the shortest pieces until there are none left. At each iteration you will determine the length of the shortest stick remaining, cut that length from each of the longer sticks and then discard all the pieces of that shortest length. When all the remaining sticks are the same length, they cannot be shortened so discard them.\n",
    "\n",
    "Given the lengths of _**n**_ sticks, print the number of sticks that are left before each iteration until there are none left.\n",
    "\n",
    "Note: Before each iteration you must determine the current shortest stick."
   ]
  },
  {
   "cell_type": "code",
   "execution_count": 99,
   "metadata": {
    "collapsed": true
   },
   "outputs": [],
   "source": [
    "def cutTheSticks(arr):\n",
    "    # Complete this function\n",
    "    \n",
    "    # the input will be an array whose values represent the length of the stick. the process will involve the following\n",
    "    # 1. get the smallest stick and discard them all; 2. subtract their lengths from the remaining sticks; 3. repeat until\n",
    "    # one or no sticks remain (if one stick is longer than the rest, it will remain)\n",
    "    \n",
    "    iter_list = []\n",
    "    \n",
    "    # add initial number of items in list\n",
    "    iter_list.append(len(arr))\n",
    "    \n",
    "    while True:\n",
    "\n",
    "        # exit loop if the maximum and minimum lengths are the same\n",
    "        if min(arr) == max(arr):\n",
    "            break\n",
    "\n",
    "        smallest = min(arr)\n",
    "        \n",
    "        arr_new = []\n",
    "        \n",
    "        for a in arr:\n",
    "            if a == smallest:\n",
    "                pass\n",
    "            else:\n",
    "                arr_new.append(a - smallest)\n",
    "                \n",
    "        arr = arr_new\n",
    "        \n",
    "        iter_list.append(len(arr))\n",
    "        \n",
    "            \n",
    "    return iter_list\n"
   ]
  },
  {
   "cell_type": "code",
   "execution_count": 100,
   "metadata": {},
   "outputs": [
    {
     "data": {
      "text/plain": [
       "[6]"
      ]
     },
     "execution_count": 100,
     "metadata": {},
     "output_type": "execute_result"
    }
   ],
   "source": [
    "# this is the one test case that failed at first.\n",
    "arr = [5, 5, 5, 5, 5, 5]\n",
    "\n",
    "cutTheSticks(arr)"
   ]
  },
  {
   "cell_type": "code",
   "execution_count": 101,
   "metadata": {},
   "outputs": [
    {
     "data": {
      "text/plain": [
       "[6, 4, 2, 1]"
      ]
     },
     "execution_count": 101,
     "metadata": {},
     "output_type": "execute_result"
    }
   ],
   "source": [
    "# this is the test case\n",
    "arr = [5, 4, 4, 2, 2, 8]\n",
    "cutTheSticks(arr)"
   ]
  },
  {
   "cell_type": "markdown",
   "metadata": {},
   "source": [
    "## Non-divisible Subset ... working but timing out\n",
    "\n",
    "Given a set of distinct integers, print the size of a maximal subset of _**S**_ where the sum of any _**2**_ numbers in _**S'**_ is not evenly divisible by _**k**_.\n",
    "\n",
    "**Note:** \n",
    "\n",
    "1. Creating two for-loops is the obvious, but may not be practical if the number of integers is huge\n",
    "\n",
    "2. Formula of adding k to the number and checking if the sum is in the list to determine if it is divisible seems correct. The problem is there are test cases where the integer is 7-8 digits, which will take time.\n",
    "\n",
    "3. Getting the modulo of each integer and then summing them up with other modulos looks promising\n",
    "\n",
    "4. There is a similar problem in the Algorithms course, the question only is what the formula is. Basically, for a sum to be divisible by k, the modulo must be zero.\n",
    "\n",
    "5. Since we are to get a subset of the integers, we can start by getting the subsets at length - 1 integers, and so on. If a subset is found where each combination of two numbers at a time does is not divisible by k, then we stop there."
   ]
  },
  {
   "cell_type": "code",
   "execution_count": 102,
   "metadata": {
    "collapsed": true
   },
   "outputs": [],
   "source": [
    "import math\n",
    "\n",
    "def nonDivisibleSubset(k, S):\n",
    "    #\n",
    "    # Write your code here.\n",
    "    #\n",
    "\n",
    "    # if S is less than two, then return right away\n",
    "    if len(S) < 2:\n",
    "        return 0\n",
    "    \n",
    "    # check if ALL combinations taken two at a time from the list will NOT be divisible by k\n",
    "    def checkCombinations(num_list):\n",
    "        \n",
    "        global k\n",
    "        global set_found\n",
    "        \n",
    "        ctr_a = 0\n",
    "        ctr_b = 0\n",
    "        \n",
    "        for i in range(len(num_list) - 1):\n",
    "\n",
    "            for j in range(i + 1, len(num_list)):\n",
    "                \n",
    "                ctr_a += 1\n",
    "                \n",
    "                # if sum is divisible by k, then stop the iteration\n",
    "                if (num_list[i] + num_list[j]) % k == 0:\n",
    "                    pass\n",
    "                else:\n",
    "                    ctr_b += 1\n",
    "        \n",
    "        print(ctr_a)\n",
    "        print(ctr_b)\n",
    "\n",
    "        if ctr_a == ctr_b:\n",
    "            return True\n",
    "        else:\n",
    "            return False\n",
    "        \n",
    "            \n",
    "    # create recursive function that will create the combinations of numbers\n",
    "    def createLoops(idx, n_count, loop_count):\n",
    "    \n",
    "        if loop_count > 1:\n",
    "            while (idx < n_count - (loop_count - 1)):\n",
    "            \n",
    "                num_list.append(S[idx])\n",
    "            \n",
    "                createLoops(idx + 1, n_count, loop_count - 1)\n",
    "                \n",
    "                num_list.pop()\n",
    "            \n",
    "                idx += 1\n",
    "        else:            \n",
    "            while (idx < n_count - (loop_count - 1)):\n",
    "            \n",
    "                num_list.append(S[idx])\n",
    "            \n",
    "                print(num_list)\n",
    "                if checkCombinations(num_list):\n",
    "\n",
    "                    global set_found\n",
    "                    set_found = True\n",
    "\n",
    "                    \n",
    "                num_list.pop()\n",
    "            \n",
    "                idx += 1\n",
    "\n",
    "    # create a function that will get combinations from S taken n at a time\n",
    "    def getCombination(n, S):\n",
    "        \n",
    "        # get the combination of n numbers from S. first compute how many there are\n",
    "    \n",
    "        n_count = len(S)\n",
    "\n",
    "        c_count = math.factorial(n_count) / (math.factorial(n_count - n) * math.factorial(n))\n",
    "    \n",
    "        idx = 0\n",
    "        loop_count = n \n",
    "  \n",
    "        createLoops(idx, n_count, loop_count)\n",
    "    \n",
    "\n",
    "    num_list = []\n",
    "    \n",
    "    for i in range(len(S) - 1, 1, -1):\n",
    "        \n",
    "        num_list = []\n",
    "        \n",
    "        getCombination(i, S)\n",
    "        global set_found\n",
    "        if set_found:\n",
    "            print('breaking 2')\n",
    "            break\n"
   ]
  },
  {
   "cell_type": "code",
   "execution_count": 103,
   "metadata": {},
   "outputs": [
    {
     "name": "stdout",
     "output_type": "stream",
     "text": [
      "[1, 7, 2]\n",
      "3\n",
      "1\n",
      "[1, 7, 4]\n",
      "3\n",
      "3\n",
      "[1, 2, 4]\n",
      "3\n",
      "1\n",
      "[7, 2, 4]\n",
      "3\n",
      "1\n",
      "breaking 2\n"
     ]
    }
   ],
   "source": [
    "# this is the sample test case\n",
    "S = [1, 7, 2, 4]\n",
    "k = 3\n",
    "set_global = False\n",
    "nonDivisibleSubset(k, S)"
   ]
  },
  {
   "cell_type": "code",
   "execution_count": 104,
   "metadata": {},
   "outputs": [
    {
     "name": "stdout",
     "output_type": "stream",
     "text": [
      "[422346306, 940894801, 696810740, 862741861, 85835055]\n",
      "10\n",
      "10\n",
      "[422346306, 940894801, 696810740, 862741861, 313720373]\n",
      "10\n",
      "8\n",
      "[422346306, 940894801, 696810740, 85835055, 313720373]\n",
      "10\n",
      "9\n",
      "[422346306, 940894801, 862741861, 85835055, 313720373]\n",
      "10\n",
      "8\n",
      "[422346306, 696810740, 862741861, 85835055, 313720373]\n",
      "10\n",
      "9\n",
      "[940894801, 696810740, 862741861, 85835055, 313720373]\n",
      "10\n",
      "8\n",
      "breaking 2\n"
     ]
    }
   ],
   "source": [
    "# this is one of the failing test case. Expect result is 5\n",
    "S = [422346306, 940894801, 696810740, 862741861, 85835055, 313720373]\n",
    "k = 9\n",
    "set_global = False\n",
    "nonDivisibleSubset(k, S)"
   ]
  },
  {
   "cell_type": "code",
   "execution_count": 105,
   "metadata": {
    "collapsed": true
   },
   "outputs": [],
   "source": [
    "import math\n",
    "\n",
    "def createLoops(idx, n_count, loop_count):\n",
    "    \n",
    "    global num_list \n",
    "\n",
    "    if loop_count > 1:\n",
    "        \n",
    "        while (idx < n_count - (loop_count - 1)):\n",
    "            \n",
    "            num_list.append(S[idx])\n",
    "            \n",
    "            createLoops(idx + 1, n_count, loop_count - 1)\n",
    "            \n",
    "            num_list.pop()\n",
    "            \n",
    "            idx += 1\n",
    "    else:\n",
    "\n",
    "        while (idx < n_count - (loop_count - 1)):\n",
    "            \n",
    "            num_list.append(S[idx])\n",
    "            \n",
    "            print(num_list)\n",
    "            # perform whatever check you need to do here\n",
    "            \n",
    "            num_list.pop()\n",
    "            \n",
    "            idx += 1\n",
    "\n",
    "def getCombination(n, S):\n",
    "    \n",
    "    # get the combination of n numbers from S. first compute how many there are\n",
    "    \n",
    "    n_count = len(S)\n",
    "    \n",
    "    c_count = math.factorial(n_count) / (math.factorial(n_count - n) * math.factorial(n))\n",
    "    \n",
    "    print(c_count)\n",
    "    \n",
    "    idx = 0\n",
    "    loop_count = n \n",
    "  \n",
    "    createLoops(idx, n_count, loop_count)\n",
    "    \n",
    "    \n",
    "    \n",
    "    "
   ]
  },
  {
   "cell_type": "code",
   "execution_count": 106,
   "metadata": {},
   "outputs": [
    {
     "name": "stdout",
     "output_type": "stream",
     "text": [
      "15.0\n",
      "[422346306, 940894801, 696810740, 862741861]\n",
      "[422346306, 940894801, 696810740, 85835055]\n",
      "[422346306, 940894801, 696810740, 313720373]\n",
      "[422346306, 940894801, 862741861, 85835055]\n",
      "[422346306, 940894801, 862741861, 313720373]\n",
      "[422346306, 940894801, 85835055, 313720373]\n",
      "[422346306, 696810740, 862741861, 85835055]\n",
      "[422346306, 696810740, 862741861, 313720373]\n",
      "[422346306, 696810740, 85835055, 313720373]\n",
      "[422346306, 862741861, 85835055, 313720373]\n",
      "[940894801, 696810740, 862741861, 85835055]\n",
      "[940894801, 696810740, 862741861, 313720373]\n",
      "[940894801, 696810740, 85835055, 313720373]\n",
      "[940894801, 862741861, 85835055, 313720373]\n",
      "[696810740, 862741861, 85835055, 313720373]\n"
     ]
    }
   ],
   "source": [
    "S = [422346306, 940894801, 696810740, 862741861, 85835055, 313720373]\n",
    "\n",
    "num_list = []\n",
    "\n",
    "getCombination(4, S)\n"
   ]
  },
  {
   "cell_type": "code",
   "execution_count": 107,
   "metadata": {},
   "outputs": [
    {
     "name": "stdout",
     "output_type": "stream",
     "text": [
      "1 2\n",
      "1 3\n",
      "2 3\n"
     ]
    }
   ],
   "source": [
    "num_list = [1, 2, 3]\n",
    "for i in range(len(num_list) - 1):\n",
    "    for j in range(i + 1, len(num_list)):\n",
    "        print(num_list[i], num_list[j])"
   ]
  },
  {
   "cell_type": "code",
   "execution_count": 108,
   "metadata": {},
   "outputs": [
    {
     "name": "stdout",
     "output_type": "stream",
     "text": [
      "[2, 3]\n"
     ]
    }
   ],
   "source": [
    "print(num_list[1:])"
   ]
  },
  {
   "cell_type": "code",
   "execution_count": 109,
   "metadata": {
    "collapsed": true
   },
   "outputs": [],
   "source": [
    "a = 'abcd'\n",
    "b = 'cdab'\n"
   ]
  },
  {
   "cell_type": "code",
   "execution_count": 110,
   "metadata": {},
   "outputs": [
    {
     "data": {
      "text/plain": [
       "False"
      ]
     },
     "execution_count": 110,
     "metadata": {},
     "output_type": "execute_result"
    }
   ],
   "source": [
    "a == b"
   ]
  },
  {
   "cell_type": "markdown",
   "metadata": {},
   "source": [
    "## Repeated String\n",
    "\n",
    "Lilah has a string, **s**, of lowercase English letters that she repeated infinitely many times.\n",
    "\n",
    "Given an integer, **n**, find and print the number of letter a's in the first **n** letters of Lilah's infinite string.\n",
    "\n",
    "For example, if the string **s = 'abcac'** and **n=10**, the substring we consider is **'abcacabcac'**, the first **10** characters of her infinite string. There are 4 occurrences of a in the substring."
   ]
  },
  {
   "cell_type": "code",
   "execution_count": 111,
   "metadata": {
    "collapsed": true
   },
   "outputs": [],
   "source": [
    "def repeatedString(s, n):\n",
    "    # Complete this function\n",
    "    \n",
    "    # compute the number of occurence of a in the string \n",
    "    a_count = 0\n",
    "    \n",
    "    for i in range(len(s)):\n",
    "        if s[i] == 'a':\n",
    "            a_count += 1\n",
    "    \n",
    "    # get the qoutient of n and the length of the string, which will give the number of occurence of string\n",
    "    s_qou = int(n / len(s))\n",
    "    \n",
    "    # multiply the count of a in string by the qoutient\n",
    "    a_count = a_count * s_qou\n",
    "    \n",
    "    # get the modulo of n and the length of the string to see if there are additional characters check\n",
    "    s_mod = n % len(s)\n",
    "    \n",
    "    # check if there is a in these additional \n",
    "    s_check = s[:s_mod]\n",
    "    \n",
    "    for i in range(len(s_check)):\n",
    "        if s_check[i] == 'a':\n",
    "            a_count += 1\n",
    "    \n",
    "    return a_count\n",
    "    \n",
    "    \n",
    "    "
   ]
  },
  {
   "cell_type": "code",
   "execution_count": 112,
   "metadata": {},
   "outputs": [
    {
     "data": {
      "text/plain": [
       "4"
      ]
     },
     "execution_count": 112,
     "metadata": {},
     "output_type": "execute_result"
    }
   ],
   "source": [
    "s = 'abcac'\n",
    "n = 10\n",
    "\n",
    "repeatedString(s, n)"
   ]
  },
  {
   "cell_type": "code",
   "execution_count": 113,
   "metadata": {},
   "outputs": [
    {
     "data": {
      "text/plain": [
       "100000000"
      ]
     },
     "execution_count": 113,
     "metadata": {},
     "output_type": "execute_result"
    }
   ],
   "source": [
    "s = 'a'\n",
    "n = 100000000\n",
    "\n",
    "repeatedString(s, n)"
   ]
  },
  {
   "cell_type": "code",
   "execution_count": 114,
   "metadata": {},
   "outputs": [
    {
     "data": {
      "text/plain": [
       "7"
      ]
     },
     "execution_count": 114,
     "metadata": {},
     "output_type": "execute_result"
    }
   ],
   "source": [
    "s = 'aba'\n",
    "n = 10\n",
    "\n",
    "repeatedString(s, n)"
   ]
  },
  {
   "cell_type": "markdown",
   "metadata": {
    "collapsed": true
   },
   "source": [
    "## Queen's Attack 2\n",
    "\n",
    "You will be given a square chess board with one queen and a number of obstacles placed on it. Determine how many squares the queen can attack.\n",
    "\n",
    "A queen is standing on an 4x4 chessboard. The chess board's rows are numbered from 1 to n, going from bottom to top. Its columns are numbered from 1 to n, going from left to right. Each square is referenced by a tuple, (r, c) , describing the row, r, and column, c, where the square is located.\n",
    "\n",
    "The queen is standing at position (rq, cq). In a single move, she can attack any square in any of the eight directions (left, right, up, down, and the four diagonals). \n",
    "\n"
   ]
  },
  {
   "cell_type": "code",
   "execution_count": null,
   "metadata": {
    "collapsed": true
   },
   "outputs": [],
   "source": [
    "\n",
    "            "
   ]
  },
  {
   "cell_type": "code",
   "execution_count": null,
   "metadata": {
    "collapsed": true
   },
   "outputs": [],
   "source": []
  },
  {
   "cell_type": "code",
   "execution_count": null,
   "metadata": {
    "collapsed": true
   },
   "outputs": [],
   "source": []
  },
  {
   "cell_type": "code",
   "execution_count": null,
   "metadata": {
    "collapsed": true
   },
   "outputs": [],
   "source": []
  }
 ],
 "metadata": {
  "kernelspec": {
   "display_name": "Python 3",
   "language": "python",
   "name": "python3"
  },
  "language_info": {
   "codemirror_mode": {
    "name": "ipython",
    "version": 3
   },
   "file_extension": ".py",
   "mimetype": "text/x-python",
   "name": "python",
   "nbconvert_exporter": "python",
   "pygments_lexer": "ipython3",
   "version": "3.6.3"
  }
 },
 "nbformat": 4,
 "nbformat_minor": 2
}
