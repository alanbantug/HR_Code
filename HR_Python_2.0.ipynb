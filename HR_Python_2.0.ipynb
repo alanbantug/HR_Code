{
 "cells": [
  {
   "cell_type": "markdown",
   "metadata": {},
   "source": [
    "## Hacker Rank Python \n",
    "\n",
    "This the second of several python notebooks on Hacker Rank coding challenges. To keep notebooks manageable, each notebook will contain up to 10 problems each and will be tracked in this cell and numbered accordingly along the way."
   ]
  },
  {
   "cell_type": "markdown",
   "metadata": {},
   "source": [
    "## 1. Picking Numbers\n",
    "\n",
    "Given an array of integers, find and print the maximum number of integers you can select from the array such that the absolute difference between any two of the chosen integers is less than or equal to 1. For example, if your array is a = [1, 1, 2, 2, 4, 4, 5, 5, 5], you can create two subarrays meeting the criterion: [1, 1, 2, 2] and [4, 4, 5, 5, 5]. The maximum length subarray has 5 elements.\n",
    "\n",
    "There are several ways to solve this. One is to get the different subsets, and then determine which subset satisfies the condition. But if the array is very large, that will be a lot of combinations, so it will not work efficiently. Another is to get a combination of two numbers each, put each combination in a set and then add them together. Let us first examine the last one."
   ]
  },
  {
   "cell_type": "code",
   "execution_count": 1,
   "metadata": {
    "collapsed": true
   },
   "outputs": [],
   "source": [
    "def pickingNumbers(a):\n",
    "    # Complete this function\n",
    "    \n",
    "    # sort the list. this will make it easier to check the difference\n",
    "    a = sorted(a)\n",
    "    \n",
    "    # initialize the list of tuples where we will add the pairs of numbers\n",
    "    valid_lists = []\n",
    "    \n",
    "    def checkDifference(next_x, x_list):\n",
    "        \n",
    "        diff = [x for x in x_list if abs(next_x - x) <= 1]\n",
    "        \n",
    "        return len(diff) == len(x_list)\n",
    "    \n",
    "    partial_list = []\n",
    "    \n",
    "    for a_num in a:\n",
    "        \n",
    "        if checkDifference(a_num, partial_list):\n",
    "            partial_list.append(a_num)\n",
    "        else:\n",
    "            valid_lists.append(partial_list)\n",
    "            partial_list = []\n",
    "            partial_list.append(a_num)\n",
    "    \n",
    "    valid_lists.append(partial_list)\n",
    "    \n",
    "    print(valid_lists)"
   ]
  },
  {
   "cell_type": "code",
   "execution_count": 2,
   "metadata": {},
   "outputs": [
    {
     "name": "stdout",
     "output_type": "stream",
     "text": [
      "[[1, 1, 2, 2], [4, 4, 5, 5, 5], [6, 7]]\n"
     ]
    }
   ],
   "source": [
    "a = [1, 1, 2, 2, 4, 4, 5, 5, 5, 6, 7]\n",
    "pickingNumbers(a)"
   ]
  },
  {
   "cell_type": "markdown",
   "metadata": {
    "collapsed": true
   },
   "source": [
    "## 2. Sherlock and Squares \n",
    "\n",
    "Watson likes to challenge Sherlock's math ability. He will provide a starting and ending value describing a range of integers. Sherlock must determine the number of square integers within that range, inclusive of the endpoints.\n",
    "\n",
    "Note: A square integer is an integer which is the square of an integer, e.g. 1, 4, 9, 16, 25.\n",
    "\n",
    "The first line contains T, the number of test cases. \n",
    "\n",
    "Each of the next T lines contains two space-separated integers denoting A and B, the starting and ending integers in the ranges."
   ]
  },
  {
   "cell_type": "code",
   "execution_count": 3,
   "metadata": {
    "collapsed": true
   },
   "outputs": [],
   "source": [
    "def squares(a, b):\n",
    "    # Complete this function\n",
    "    \n",
    "    counter = 0\n",
    "    \n",
    "    # solution 1 is timing out\n",
    "    # iterate thru the range inclusive of the end points\n",
    "    # for num in range(a, b+1):\n",
    "    #   \n",
    "    #    # a number is a square if there is no difference between the square root and the integer of that square root\n",
    "    #    if int(num ** 0.5) == (num ** 0.5):\n",
    "    #        counter += 1\n",
    "    \n",
    "    # solution 2 gets full credit!!!\n",
    "    # check the end points if they are squares. if not, get the nearest square by adding to the lower limit and subtracting\n",
    "    # from the upper limit. the answer will be the difference between the roots of the two numbers computed plus 1\n",
    "    while True:\n",
    "        if int(a ** 0.5) == (a ** 0.5):\n",
    "            break\n",
    "        else:\n",
    "            a += 1\n",
    "    \n",
    "    while True:\n",
    "        if int(b ** 0.5) == (b ** 0.5):\n",
    "            break\n",
    "        else:\n",
    "            b -= 1\n",
    "            \n",
    "    # get the difference between a and b\n",
    "    print (b ** 0.5 - a ** 0.5 + 1)\n",
    "    "
   ]
  },
  {
   "cell_type": "code",
   "execution_count": 4,
   "metadata": {},
   "outputs": [
    {
     "name": "stdout",
     "output_type": "stream",
     "text": [
      "2.0\n"
     ]
    }
   ],
   "source": [
    "squares(3, 9)"
   ]
  },
  {
   "cell_type": "markdown",
   "metadata": {},
   "source": [
    "## 3. ACM ICPC\n",
    "\n",
    "There are a number of people who will be attending ACM-ICPC World Finals. Each of them may be well versed in a number of topics. Given a list of topics known by each attendee, you must determine the maximum number of topics a 2-person team can know. Also find out how many ways a team can be formed to know that many topics. Lists will be in the form of bit strings, where each string represents an attendee and each position in that string represents a field of knowledge, 1 if its a known field or 0 if not.\n",
    "\n",
    "Solution #1: Iterate thru all possible combinations of two people at a time. As expected, it is timing out  \n",
    "Solution #2: Use list comprehension to convert the list to integers and use functions as well"
   ]
  },
  {
   "cell_type": "code",
   "execution_count": 5,
   "metadata": {
    "collapsed": true
   },
   "outputs": [],
   "source": [
    "# Solution #1\n",
    "def acmTeam1(topic):\n",
    "    # Complete this function\n",
    "    \n",
    "    max_count = 0\n",
    "    max_match = 0\n",
    "\n",
    "    if len(topic) < 2:\n",
    "        return [max_count]\n",
    "    for i in range(len(topic) - 1):\n",
    "        \n",
    "        for j in range(i + 1, len(topic)):\n",
    "            \n",
    "            combined = []\n",
    "            \n",
    "            # for each combination, check the resulting list\n",
    "            for a, b in zip(topic[i], topic[j]):\n",
    "                if int(a) or int(b):\n",
    "                    combined.append('1')\n",
    "                else:\n",
    "                    combined.append('0')\n",
    "                    \n",
    "            one_count = combined.count('1')\n",
    "            \n",
    "            if max_count == one_count:\n",
    "                max_match += 1\n",
    "            elif max_count < one_count:\n",
    "                max_count = one_count\n",
    "                max_match = 1\n",
    "                \n",
    "    \n",
    "    print(max_count)\n",
    "    print(max_match)\n",
    "            \n",
    "            "
   ]
  },
  {
   "cell_type": "code",
   "execution_count": 6,
   "metadata": {
    "collapsed": true
   },
   "outputs": [],
   "source": [
    "# Solution #2\n",
    "def acmTeam2(topic):\n",
    "    # Complete this function\n",
    "    max_count = 0\n",
    "    max_match = 0\n",
    "    \n",
    "    def matchList(lista, listb):\n",
    "        # this function will merge the two lists supplied and return the count of 1s\n",
    "        \n",
    "        one_count = 0\n",
    "        \n",
    "        for i in range(len(lista)):\n",
    "            one_count += lista[i] or listb[i]\n",
    "        \n",
    "        return one_count\n",
    "    \n",
    "    # convert the list into a matrix of 1's and 0's\n",
    "    topic_matrix = []\n",
    "    \n",
    "    for t in topic:\n",
    "        topic_matrix.append(list(map(int, [bit for bit in t])))\n",
    "    \n",
    "    combined = [matchList(topic_matrix[i], topic_matrix[j]) for i in range(len(topic_matrix) - 1) for j in range(i + 1, len(topic_matrix))]\n",
    "\n",
    "    max_count = max(combined)\n",
    "    max_match = combined.count(max_count)\n",
    "    \n",
    "    print(max_count)\n",
    "    print(max_match)\n",
    "        \n",
    "    "
   ]
  },
  {
   "cell_type": "code",
   "execution_count": 7,
   "metadata": {
    "collapsed": true
   },
   "outputs": [],
   "source": [
    "topic = ['10101', '11100', '11010', '00101']"
   ]
  },
  {
   "cell_type": "code",
   "execution_count": 8,
   "metadata": {},
   "outputs": [
    {
     "name": "stdout",
     "output_type": "stream",
     "text": [
      "5\n",
      "2\n"
     ]
    }
   ],
   "source": [
    "acmTeam2(topic)"
   ]
  },
  {
   "cell_type": "markdown",
   "metadata": {},
   "source": [
    "## 4. Climbing the Leaderboard...works but times out\n",
    "\n",
    "Alice is playing an arcade game and wants to climb to the top of the leaderboard. Can you help her track her ranking as she beats each level? The game uses Dense Ranking, so its leaderboard works like this:\n",
    "\n",
    "- The player with the highest score is ranked number _**1**_  on the leaderboard.\n",
    "\n",
    "- Players who have equal scores receive the same ranking number, and the next player(s) receive the immediately following ranking number. For example, four players have the scores 100, 90, 90, and 80. Those players will have ranks 1, 2, 2, and 3, respectively.\n",
    "\n",
    "When Alice starts playing, there are already _**n**_ people on the leaderboard. The score of each player _**i**_ is denoted by _**si**_. Alice plays for _**m**_ levels, and we denote her total score after passing each level _**j**_ as _**alicej**_. After completing each level, Alice wants to know her current rank.\n",
    "\n",
    "You are given an array, _**score**_, of monotonically decreasing leaderboard scores, and another array, _**alice**_, of Alice's cumulative scores for each level of the game. You must print _**m**_ integers. The _**jth**_ integer should indicate the current rank of alice after passing the _**jth**_ level."
   ]
  },
  {
   "cell_type": "code",
   "execution_count": 9,
   "metadata": {
    "collapsed": true
   },
   "outputs": [],
   "source": [
    "# solution #1 -- working but timing out: score 12/20\n",
    "def climbingLeaderboard1(scores, alice):\n",
    "    #\n",
    "    # Write your code here.\n",
    "    #\n",
    "    \n",
    "    rank = []\n",
    "    \n",
    "    # iterate thru alice's scores\n",
    "    for a_score in alice:\n",
    "        \n",
    "        # create a list of scores that will contain all scores greater than alice's\n",
    "        temp_list1 = [score for score in scores if score >= a_score]\n",
    "\n",
    "        # append alice's score to the list\n",
    "        temp_list1.append(a_score)\n",
    "        \n",
    "        # remove duplicates in the list by casting it to a set and then back to a list\n",
    "        temp_list2 = [temp_list1[i] for i in range(len(temp_list1) - 1) if temp_list1[i] != temp_list1[i + 1]]\n",
    "        temp_list2.append(temp_list1[-1])\n",
    "        \n",
    "        # get the length of the resulting list. that will be alice's rank\n",
    "        rank.append(len(temp_list2))\n",
    "        \n",
    "    print(rank)"
   ]
  },
  {
   "cell_type": "code",
   "execution_count": 10,
   "metadata": {
    "collapsed": true
   },
   "outputs": [],
   "source": [
    "# solution #2 -- working but timing out 12/20\n",
    "def climbingLeaderboard2(scores, alice):\n",
    "    #\n",
    "    # Write your code here.\n",
    "    #\n",
    "    \n",
    "    rank = []\n",
    "    \n",
    "    # iterate thru alice's scores\n",
    "    for a_score in alice:\n",
    "        \n",
    "        # create a copy of the scores and append alice's score\n",
    "        temp_scores = [score for score in scores if score >= a_score]\n",
    "        temp_scores.append(a_score)\n",
    "\n",
    "        # remove the duplicates in the list by casting it to a set and back again, then sorting it\n",
    "        temp_scores = sorted(list(set(temp_scores)), reverse=True)\n",
    "        \n",
    "        # get the index of alice's score, add 1 and that will be the rank\n",
    "        rank.append(temp_scores.index(a_score) + 1)\n",
    "        \n",
    "    print(rank)"
   ]
  },
  {
   "cell_type": "code",
   "execution_count": 11,
   "metadata": {
    "collapsed": true
   },
   "outputs": [],
   "source": [
    "scores = [100, 100, 50, 40, 40, 20, 10]\n",
    "alice = [5, 25, 50, 120]"
   ]
  },
  {
   "cell_type": "code",
   "execution_count": 12,
   "metadata": {},
   "outputs": [
    {
     "name": "stdout",
     "output_type": "stream",
     "text": [
      "[6, 4, 2, 1]\n"
     ]
    }
   ],
   "source": [
    "climbingLeaderboard2(scores, alice)"
   ]
  },
  {
   "cell_type": "markdown",
   "metadata": {},
   "source": [
    "## 5. Library Fine\n",
    "\n",
    "Your local library needs your help! Given the expected and actual return dates for a library book, create a program that calculates the fine (if any). The fee structure is as follows:\n",
    "\n",
    "If the book is returned on or before the expected return date, no fine will be charged (i.e.: fine=0).\n",
    "\n",
    "If the book is returned after the expected return day but still within the same calendar month and year as the expected return date, fine = 15 hackos x the number of days late.\n",
    "\n",
    "If the book is returned after the expected return month but still within the same calendar year as the expected return date, the fine = 500 Hackos x the number of months late.\n",
    "\n",
    "If the book is returned after the calendar year in which it was expected, there is a fixed fine of 5,000 Hackos .\n",
    "\n",
    "Charges are based only on the least precise measure of lateness. For example, whether a book is due January 1, 2017 or December 31, 2017, if it is returned January 1, 2018, that is a year late and the fine would be 10,000 Hackos."
   ]
  },
  {
   "cell_type": "code",
   "execution_count": 13,
   "metadata": {
    "collapsed": true
   },
   "outputs": [],
   "source": [
    "def libraryFine(d1, m1, y1, d2, m2, y2):\n",
    "    # Complete this function\n",
    "    \n",
    "    fine = 0\n",
    "    \n",
    "    if y1 > y2:\n",
    "        fine = 10000\n",
    "    elif y1 == y2 and m1 > m2:\n",
    "        fine = (m1 - m2) * 500\n",
    "    elif y1 == y2 and m1 == m2 and d1 > d2:\n",
    "        fine = (d1 - d2) * 15\n",
    "        \n",
    "    return fine"
   ]
  },
  {
   "cell_type": "code",
   "execution_count": 14,
   "metadata": {},
   "outputs": [
    {
     "data": {
      "text/plain": [
       "45"
      ]
     },
     "execution_count": 14,
     "metadata": {},
     "output_type": "execute_result"
    }
   ],
   "source": [
    "libraryFine(9, 6, 2015, 6, 6, 2015)"
   ]
  },
  {
   "cell_type": "code",
   "execution_count": 15,
   "metadata": {},
   "outputs": [
    {
     "data": {
      "text/plain": [
       "0"
      ]
     },
     "execution_count": 15,
     "metadata": {},
     "output_type": "execute_result"
    }
   ],
   "source": [
    "libraryFine(2, 7, 1014, 1, 1, 1015)"
   ]
  },
  {
   "cell_type": "markdown",
   "metadata": {
    "collapsed": true
   },
   "source": [
    "## 6. Jumping on the Clouds\n",
    "\n",
    "Emma is playing a new mobile game that starts with consecutively numbered clouds. Some of the clouds are thunderheads and others are cumulus. She can jump on any cumulus cloud having a number that is equal to the number of the current cloud plus 1 or 2. She must avoid the thunderheads. Determine the minimum number of jumps it will take Emma to jump from her starting postion to the last cloud. It is always possible to win the game.\n",
    "\n",
    "For each game, Emma will get an array of clouds numbered 0 if they are safe or 1 if they must be avoided. For example, c=[0, 1, 0, 0, 0, 1, 0] indexed from 0 to 6. The number on each cloud is its index in the list so she must avoid the clouds at indexes 1  and 5. She could follow the following two paths: 0 > 2 > 4 > 6  or 0 > 2 > 3 > 4 > 6. The first path takes 3 jumps while the second takes 4.\n",
    "\n",
    "This problem takes a similar tone as the summation problem above. "
   ]
  },
  {
   "cell_type": "code",
   "execution_count": 16,
   "metadata": {
    "collapsed": true
   },
   "outputs": [],
   "source": [
    "def jumpingOnClouds(c):\n",
    "    # Complete this function\n",
    "    \n",
    "    # get the indices of the items to avoid in the list\n",
    "    bad_idx = [idx for idx, item in enumerate(c) if item == 1]\n",
    "    \n",
    "    if len(bad_idx) == len(c):\n",
    "        return 0\n",
    "    \n",
    "    \n",
    "    # check if the index is in the bad index list\n",
    "    def checkBad(idx, bad_idx):\n",
    "        return idx not in bad_idx\n",
    "    \n",
    "    # check if there are sequences of three consecutive numbers, remove the middle number using pop\n",
    "    def checkSequence(path):\n",
    "        \n",
    "        for idx in range(len(path)):\n",
    "            \n",
    "            try:\n",
    "                if path[idx - 1] + 1 == path[idx] and path[idx] + 1 == path[idx + 1]:\n",
    "                    path.pop(idx)\n",
    "                    \n",
    "            except:\n",
    "                pass\n",
    "        \n",
    "        return path\n",
    "    \n",
    "    # initialize the path\n",
    "    path = [idx for idx, item in enumerate(c) if checkBad(idx, bad_idx)]\n",
    "    \n",
    "    print(path)\n",
    "    \n",
    "    final_path = checkSequence(path)\n",
    "    \n",
    "    print(final_path)\n",
    "            \n",
    "    "
   ]
  },
  {
   "cell_type": "code",
   "execution_count": 17,
   "metadata": {},
   "outputs": [
    {
     "name": "stdout",
     "output_type": "stream",
     "text": [
      "[0, 1, 3, 4, 6]\n",
      "[0, 1, 3, 4, 6]\n"
     ]
    }
   ],
   "source": [
    "c = [0, 0, 1, 0, 0, 1, 0]\n",
    "jumpingOnClouds(c)"
   ]
  },
  {
   "cell_type": "code",
   "execution_count": 18,
   "metadata": {},
   "outputs": [
    {
     "name": "stdout",
     "output_type": "stream",
     "text": [
      "[0, 2, 3, 4, 6]\n",
      "[0, 2, 4, 6]\n"
     ]
    }
   ],
   "source": [
    "c = [0, 1, 0, 0, 0, 1, 0]\n",
    "jumpingOnClouds(c)"
   ]
  },
  {
   "cell_type": "code",
   "execution_count": 19,
   "metadata": {},
   "outputs": [
    {
     "name": "stdout",
     "output_type": "stream",
     "text": [
      "[0, 1, 3, 4, 5, 6, 8, 9]\n",
      "[0, 1, 3, 5, 6, 8, 9]\n"
     ]
    }
   ],
   "source": [
    "c = [0, 0, 1, 0, 0, 0, 0, 1, 0, 0]\n",
    "jumpingOnClouds(c)"
   ]
  },
  {
   "cell_type": "markdown",
   "metadata": {},
   "source": [
    "## 7. Encryption\n",
    "\n",
    "An English text needs to be encrypted using the following encryption scheme. \n",
    "First, the spaces are removed from the text. Let L be the length of this text. \n",
    "Then, characters are written into a grid, whose rows and columns have the following constraints:\n",
    "\n",
    "f|sqrt(L)| <= row <= column <= c|sqrt(L)|, where f|x| if the floor function and c|x| is ceiling function.\n",
    "\n",
    "For example, the sentence **if man was meant to stay on the ground god would have given us roots** after removing spaces is 54 characters long. sqrt(54) is between 7 and 8, so it is written in the form of a grid with 7 rows and 8 columns.\n",
    "\n",
    "The encoded message is obtained by displaying the characters in a column, inserting a space, and then displaying the next column and inserting a space, and so on. For example, the encoded message for the above rectangle is:\n",
    "\n",
    "**imtgdvs fearwer mayoogo anouuio ntnnlvt wttddes aohghn sseoau**\n",
    "\n",
    "You will be given a message to encode and print."
   ]
  },
  {
   "cell_type": "code",
   "execution_count": 20,
   "metadata": {
    "collapsed": true
   },
   "outputs": [],
   "source": [
    "def encryption(s):\n",
    "    # Complete this function\n",
    "    \n",
    "    # remove all spaces from the string and get the length\n",
    "    s_new = ('').join(s.split(' '))\n",
    "    s_len = len(s_new)\n",
    "    \n",
    "    # get the square root and then the floor - row and ceiling - column\n",
    "    s_row = int(s_len ** 0.5)\n",
    "    if s_row == s_len ** 0.5:\n",
    "        s_col = s_row\n",
    "    else:\n",
    "        s_col = int(s_len ** 0.5) + 1\n",
    "\n",
    "    print(s_new)\n",
    "    print('row',s_row)\n",
    "    print('col',s_col)\n",
    "    \n",
    "    s_idx = 0\n",
    "    s_itr = 0\n",
    "    \n",
    "    code = []\n",
    "    part_code = []\n",
    "    \n",
    "    while s_itr < s_len:\n",
    "        \n",
    "        part_code.append(s_new[s_idx])\n",
    "        s_idx += s_col\n",
    "        \n",
    "        if s_idx >= s_len:\n",
    "            \n",
    "            code.append(part_code)\n",
    "            s_itr += 1\n",
    "            \n",
    "            if s_itr >= s_col:\n",
    "                break\n",
    "            \n",
    "            part_code = []\n",
    "            s_idx = s_itr\n",
    "            \n",
    "    final_code = (' '). join([('').join(co) for co in code])\n",
    "    \n",
    "    print(final_code)\n",
    "        \n",
    "        \n"
   ]
  },
  {
   "cell_type": "code",
   "execution_count": 21,
   "metadata": {},
   "outputs": [
    {
     "name": "stdout",
     "output_type": "stream",
     "text": [
      "haveaniceday\n",
      "row 3\n",
      "col 4\n",
      "hae and via ecy\n"
     ]
    }
   ],
   "source": [
    "s = 'have a nice day'\n",
    "encryption(s)"
   ]
  },
  {
   "cell_type": "code",
   "execution_count": 22,
   "metadata": {},
   "outputs": [
    {
     "name": "stdout",
     "output_type": "stream",
     "text": [
      "feedthedog\n",
      "row 3\n",
      "col 4\n",
      "fto ehg ee dd\n"
     ]
    }
   ],
   "source": [
    "s = 'feed the dog'\n",
    "encryption(s)"
   ]
  },
  {
   "cell_type": "code",
   "execution_count": 23,
   "metadata": {},
   "outputs": [
    {
     "name": "stdout",
     "output_type": "stream",
     "text": [
      "iffactsdontfittotheorychangethefacts\n",
      "row 6\n",
      "col 6\n",
      "isieae fdtonf fotrga anoyec cttctt tfhhhs\n"
     ]
    }
   ],
   "source": [
    "s = 'iffactsdontfittotheorychangethefacts'\n",
    "encryption(s)\n",
    "# isieae fdtonf fotrga anoyec cttctt tfhhhs"
   ]
  },
  {
   "cell_type": "markdown",
   "metadata": {},
   "source": [
    "## Bigger is Greater\n",
    "\n",
    "Lexicographical order is often known as alphabetical order when dealing with strings. A string is greater than another string if it comes later in a lexicographically sorted list.\n",
    "\n",
    "Given a word, create a new word by swapping some or all of its characters. This new word must meet two criteria:\n",
    "\n",
    "- It must be greater than the original word\n",
    "- It must be the smallest word that meets the first condition\n",
    "\n",
    "Complete the function biggerIsGreater below to create and return the new string meeting the criteria. If it is not possible, return no answer.\n",
    "\n",
    "#### Solution\n",
    "\n",
    "The solution to this problem may be to get all permutations of the string, sorting the string, and then getting the string that is next to the original string. To get the permutation of the string, we can use a recursive function that is part of the lessons for Python Algorithms. "
   ]
  },
  {
   "cell_type": "code",
   "execution_count": 24,
   "metadata": {
    "collapsed": true
   },
   "outputs": [],
   "source": [
    "# solution #1 - works on test data but times out\n",
    "def biggerIsGreater(w):\n",
    "    # Complete this function\n",
    "    \n",
    "    # define a recursive function to get all the permutations of the input string\n",
    "    def permute(w):\n",
    "        out = []\n",
    "    \n",
    "        # Base Case\n",
    "        if len(w) == 1:\n",
    "            out = [w]\n",
    "        \n",
    "        else:\n",
    "            # For every letter in string\n",
    "            for i, let in enumerate(w):\n",
    "            \n",
    "                # For every permutation resulting from Step 2 and 3 described above\n",
    "                for perm in permute(w[:i] + w[i+1:]):\n",
    "                \n",
    "                    # Add it to output\n",
    "                    out += [let + perm]\n",
    "\n",
    "        return out\n",
    "    \n",
    "    # define function that will check if the characters in the string are uniform and cannot be arranged \n",
    "    def checkUnique(w):\n",
    "        \n",
    "        for letter in w:\n",
    "            if w.count(letter) == len(w):\n",
    "                return False\n",
    "        \n",
    "        return True\n",
    "        \n",
    "    if checkUnique(w):\n",
    "        pass\n",
    "    else:\n",
    "        return 'no answer'\n",
    "    \n",
    "    # get the permutations of the string an sort it\n",
    "    out_string = permute(w)\n",
    "    print(out_string)\n",
    "    out_string = sorted(out_string)\n",
    "    \n",
    "\n",
    "    # locate the original string\n",
    "    idx = out_string.index(w)\n",
    "    \n",
    "    # increment the index to get the next higher lexicographical order. check also that it is not the last one\n",
    "    # such that the \n",
    "    idx += 1\n",
    "    \n",
    "    if idx > len(out_string):\n",
    "        return w\n",
    "    else:\n",
    "        return out_string[idx]\n",
    "    "
   ]
  },
  {
   "cell_type": "code",
   "execution_count": 25,
   "metadata": {},
   "outputs": [
    {
     "name": "stdout",
     "output_type": "stream",
     "text": [
      "['dkhc', 'dkch', 'dhkc', 'dhck', 'dckh', 'dchk', 'kdhc', 'kdch', 'khdc', 'khcd', 'kcdh', 'kchd', 'hdkc', 'hdck', 'hkdc', 'hkcd', 'hcdk', 'hckd', 'cdkh', 'cdhk', 'ckdh', 'ckhd', 'chdk', 'chkd']\n",
      "hcdk\n"
     ]
    }
   ],
   "source": [
    "w = 'dkhc'\n",
    "print(biggerIsGreater(w))"
   ]
  },
  {
   "cell_type": "code",
   "execution_count": 26,
   "metadata": {},
   "outputs": [],
   "source": [
    "# solution #2 - Instead of getting all permutations, just rearrange the letters starting from the current order\n",
    "def biggerIsGreater(w):\n",
    "    # Complete this function\n",
    "    \n",
    "    # copy function above that will check if the string can be rearranged\n",
    "    def checkUnique(w):\n",
    "        \n",
    "        for letter in w:\n",
    "            if w.count(letter) == len(w):\n",
    "                return False\n",
    "        \n",
    "        return True\n",
    "        \n",
    "    if checkUnique(w):\n",
    "        pass\n",
    "    else:\n",
    "        return 'no answer'\n",
    "\n",
    "    # use itertools\n",
    "    import itertools\n",
    "    \n",
    "    w_perm = itertools.permutations(w, len(w))\n",
    "    w_next = ''\n",
    "    \n",
    "    while True:\n",
    "        \n",
    "        # get next \n",
    "        w_next = ('').join(next(w_perm))\n",
    "        \n",
    "        if w_next > w:\n",
    "            break\n",
    "    \n",
    "    return w_next\n",
    "        \n",
    "    "
   ]
  },
  {
   "cell_type": "code",
   "execution_count": 27,
   "metadata": {
    "collapsed": true
   },
   "outputs": [],
   "source": [
    "import itertools"
   ]
  },
  {
   "cell_type": "code",
   "execution_count": 28,
   "metadata": {
    "collapsed": true
   },
   "outputs": [],
   "source": [
    "w = 'hefg'\n",
    "s_perm = itertools.permutations(w, len(w))"
   ]
  },
  {
   "cell_type": "code",
   "execution_count": 29,
   "metadata": {},
   "outputs": [
    {
     "data": {
      "text/plain": [
       "('h', 'e', 'f', 'g')"
      ]
     },
     "execution_count": 29,
     "metadata": {},
     "output_type": "execute_result"
    }
   ],
   "source": [
    "next(s_perm)"
   ]
  },
  {
   "cell_type": "code",
   "execution_count": 30,
   "metadata": {},
   "outputs": [
    {
     "data": {
      "text/plain": [
       "True"
      ]
     },
     "execution_count": 30,
     "metadata": {},
     "output_type": "execute_result"
    }
   ],
   "source": [
    "'hefg' < 'hegf'"
   ]
  },
  {
   "cell_type": "code",
   "execution_count": null,
   "metadata": {
    "collapsed": true
   },
   "outputs": [],
   "source": []
  },
  {
   "cell_type": "code",
   "execution_count": null,
   "metadata": {
    "collapsed": true
   },
   "outputs": [],
   "source": []
  }
 ],
 "metadata": {
  "kernelspec": {
   "display_name": "Python 3",
   "language": "python",
   "name": "python3"
  },
  "language_info": {
   "codemirror_mode": {
    "name": "ipython",
    "version": 3
   },
   "file_extension": ".py",
   "mimetype": "text/x-python",
   "name": "python",
   "nbconvert_exporter": "python",
   "pygments_lexer": "ipython3",
   "version": "3.6.3"
  }
 },
 "nbformat": 4,
 "nbformat_minor": 2
}
